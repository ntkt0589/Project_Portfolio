{
 "cells": [
  {
   "cell_type": "code",
   "execution_count": 36,
   "id": "c8fd7b59-9090-45b3-b3f2-25d0d0903d2d",
   "metadata": {},
   "outputs": [],
   "source": [
    "import pandas as pd\n",
    "import matplotlib.pyplot as plt\n",
    "import numpy as np\n",
    "\n",
    "restaurants = pd.read_csv(r\"C:\\Users\\trinh.ngo\\OneDrive - Terasys-Network\\Dokumente\\Mein Dokument\\Lernmaterial\\Data Science\\DataCamp_Data Scientist in Python track\\Cleaning Data in Python\\restaurants_L2_dirty.csv\")"
   ]
  },
  {
   "cell_type": "code",
   "execution_count": 30,
   "id": "7b708d88-9f9c-4192-b39a-9eff8cd67436",
   "metadata": {},
   "outputs": [
    {
     "name": "stdout",
     "output_type": "stream",
     "text": [
      "<class 'pandas.core.frame.DataFrame'>\n",
      "RangeIndex: 82 entries, 0 to 81\n",
      "Data columns (total 6 columns):\n",
      " #   Column      Non-Null Count  Dtype \n",
      "---  ------      --------------  ----- \n",
      " 0   Unnamed: 0  82 non-null     int64 \n",
      " 1   name        82 non-null     object\n",
      " 2   addr        82 non-null     object\n",
      " 3   city        82 non-null     object\n",
      " 4   phone       82 non-null     int64 \n",
      " 5   type        82 non-null     object\n",
      "dtypes: int64(2), object(4)\n",
      "memory usage: 4.0+ KB\n"
     ]
    }
   ],
   "source": [
    "restaurants.info()"
   ]
  },
  {
   "cell_type": "code",
   "execution_count": 37,
   "id": "73b4f244-2d39-4677-b41d-3b2c26f711a2",
   "metadata": {},
   "outputs": [
    {
     "data": {
      "text/plain": [
       "RangeIndex(start=0, stop=82, step=1)"
      ]
     },
     "execution_count": 37,
     "metadata": {},
     "output_type": "execute_result"
    }
   ],
   "source": [
    "restaurants.index"
   ]
  },
  {
   "cell_type": "code",
   "execution_count": 38,
   "id": "60d7143e-b129-45ff-9aa3-316fe8a8bb7f",
   "metadata": {},
   "outputs": [
    {
     "data": {
      "text/plain": [
       "type\n",
       "american            20\n",
       "italian              7\n",
       "californian          5\n",
       "coffee shops         5\n",
       "asian                4\n",
       "hot dogs             3\n",
       "diners               3\n",
       "delis                3\n",
       "hamburgers           3\n",
       "mexican              3\n",
       "noodle shops         2\n",
       "pacific new wave     2\n",
       "seafood              2\n",
       "continental          1\n",
       "coffeebar            1\n",
       "eclectic             1\n",
       "desserts             1\n",
       "chinese              1\n",
       "southern/soul        1\n",
       "fast food            1\n",
       "chicken              1\n",
       "french ( new )       1\n",
       "middle eastern       1\n",
       "indonesian           1\n",
       "american ( new )     1\n",
       "health food          1\n",
       "vietnamese           1\n",
       "mexican/tex-mex      1\n",
       "steakhouses          1\n",
       "russian              1\n",
       "cajun/creole         1\n",
       "japanese             1\n",
       "pizza                1\n",
       "Name: count, dtype: int64"
      ]
     },
     "execution_count": 38,
     "metadata": {},
     "output_type": "execute_result"
    }
   ],
   "source": [
    "restaurants[\"type\"].value_counts()"
   ]
  }
 ],
 "metadata": {
  "kernelspec": {
   "display_name": "Python 3 (ipykernel)",
   "language": "python",
   "name": "python3"
  },
  "language_info": {
   "codemirror_mode": {
    "name": "ipython",
    "version": 3
   },
   "file_extension": ".py",
   "mimetype": "text/x-python",
   "name": "python",
   "nbconvert_exporter": "python",
   "pygments_lexer": "ipython3",
   "version": "3.11.7"
  }
 },
 "nbformat": 4,
 "nbformat_minor": 5
}
