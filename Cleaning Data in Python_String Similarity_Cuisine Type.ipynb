{
 "cells": [
  {
   "cell_type": "markdown",
   "metadata": {},
   "source": [
    "Cleaning Data in Python\n",
    "\n",
    "The \"Restaurant\" Data includes five columns: \n",
    "    - name: the restaurants' name\n",
    "    - addr: the restaurants' address\n",
    "    - city: city, where the restaurant's are located\n",
    "    - phone: the restaurant's telephone numbers\n",
    "    - type: the restaurants' cuisine type, including american, italian, asian, mexican, southern, southernwest, coffeebar, steakhouses, cajun\n",
    "\n",
    "The \"cuisine_type\" column contains so many categories that a manual replacement is not possible. \n",
    "\n",
    "Using the string similarity from thefuzz package to replace the strings in \"cuisine_type\" column."
   ]
  },
  {
   "cell_type": "code",
   "execution_count": 15,
   "metadata": {},
   "outputs": [
    {
     "name": "stdout",
     "output_type": "stream",
     "text": [
      "<class 'pandas.core.frame.DataFrame'>\n",
      "Index: 336 entries, 0 to 335\n",
      "Data columns (total 5 columns):\n",
      " #   Column  Non-Null Count  Dtype \n",
      "---  ------  --------------  ----- \n",
      " 0   name    336 non-null    object\n",
      " 1   addr    336 non-null    object\n",
      " 2   city    336 non-null    object\n",
      " 3   phone   336 non-null    int64 \n",
      " 4   type    336 non-null    object\n",
      "dtypes: int64(1), object(4)\n",
      "memory usage: 15.8+ KB\n"
     ]
    }
   ],
   "source": [
    "import pandas as pd\n",
    "import numpy as np\n",
    "import matplotlib.pyplot as plt\n",
    "\n",
    "# Read \"restaurants\" csv file into DataFrame\n",
    "restaurants = pd.read_csv(r\"C:\\Users\\trinh.ngo\\OneDrive - Terasys-Network\\Dokumente\\Mein Dokument\\Lernmaterial\\Data Science\\DataCamp_Data Scientist in Python track\\Cleaning Data in Python\\restaurants_cuisine_type_change.csv\", index_col=0)\n",
    "# Show the info of the \"restaurants\" DataFrame\n",
    "restaurants.info()"
   ]
  },
  {
   "cell_type": "code",
   "execution_count": 16,
   "metadata": {},
   "outputs": [],
   "source": [
    "# Rename column \"type\" to \"cuisine_type\"\n",
    "restaurants.rename(columns={\"type\":\"cuisine_type\"}, inplace=True)"
   ]
  },
  {
   "cell_type": "code",
   "execution_count": 10,
   "metadata": {},
   "outputs": [
    {
     "data": {
      "text/plain": [
       "cuisine_type\n",
       "american        126\n",
       "italian          71\n",
       "asian            63\n",
       "coffeebar        22\n",
       "southern          8\n",
       "mexican           8\n",
       "steakhouses       5\n",
       "ameerican         2\n",
       "asianne           2\n",
       "assiian           2\n",
       "amerian           1\n",
       "aasian            1\n",
       "mexxican          1\n",
       "coffeebarr        1\n",
       "americcan         1\n",
       "coffeeebar        1\n",
       "aamerican         1\n",
       "americann         1\n",
       "italianne         1\n",
       "italianin         1\n",
       "aammerican        1\n",
       "cajun             1\n",
       "southwestern      1\n",
       "asiaan            1\n",
       "ammerican         1\n",
       "amnerican         1\n",
       "italitian         1\n",
       "italiano          1\n",
       "coffeebara        1\n",
       "italiien          1\n",
       "itallien          1\n",
       "amnrican          1\n",
       "amenrican         1\n",
       "assian            1\n",
       "italien           1\n",
       "asien             1\n",
       "asiaane           1\n",
       "Name: count, dtype: int64"
      ]
     },
     "execution_count": 10,
     "metadata": {},
     "output_type": "execute_result"
    }
   ],
   "source": [
    "# Count values of each \"cuisine_type\" category\n",
    "restaurants[\"cuisine_type\"].value_counts()"
   ]
  },
  {
   "cell_type": "code",
   "execution_count": 19,
   "metadata": {},
   "outputs": [
    {
     "name": "stdout",
     "output_type": "stream",
     "text": [
      "[('mexican', 80), ('cajun', 68), ('asian', 62), ('italian', 53), ('southwestern', 49), ('southern', 38), ('coffeebar', 24), ('steakhouses', 21)]\n",
      "[('italian', 100), ('asian', 67), ('mexican', 43), ('cajun', 33), ('southwestern', 33), ('steakhouses', 33), ('southern', 27), ('coffeebar', 12)]\n",
      "[('asian', 100), ('italian', 67), ('mexican', 50), ('steakhouses', 40), ('cajun', 40), ('southwestern', 36), ('southern', 31), ('coffeebar', 26)]\n",
      "[('mexican', 100), ('asian', 50), ('cajun', 50), ('italian', 43), ('southwestern', 36), ('steakhouses', 33), ('southern', 27), ('coffeebar', 25)]\n",
      "[('coffeebar', 100), ('southwestern', 38), ('southern', 35), ('cajun', 30), ('asian', 26), ('mexican', 25), ('steakhouses', 20), ('italian', 12)]\n"
     ]
    }
   ],
   "source": [
    "from thefuzz import fuzz\n",
    "from thefuzz import process\n",
    "\n",
    "# Create the list of the cuisine types, which the \"cuisine_type\" column should contains\n",
    "cuisines = [\"american\", \"italian\", \"asian\", \"mexican\", \"coffeebar\"]\n",
    "\n",
    "# Find the similarity scores and the similarity cutoff point when remapping categories\n",
    "cuisine_series = restaurants[\"cuisine_type\"].unique()\n",
    "american_matches = process.extract(\"american\", cuisine_series, limit=len(cuisine_series))\n",
    "print(american_matches)\n",
    "italian_matches = process.extract(\"italian\", cuisine_series, limit=len(cuisine_series))\n",
    "print(italian_matches)\n",
    "asian_matches = process.extract(\"asian\", cuisine_series, limit=len(cuisine_series))\n",
    "print(asian_matches)\n",
    "mexican_matches = process.extract(\"mexican\", cuisine_series, limit=len(cuisine_series))\n",
    "print(mexican_matches)\n",
    "coffeebar_matches = process.extract(\"coffeebar\", cuisine_series, limit=len(cuisine_series))\n",
    "print(coffeebar_matches)"
   ]
  },
  {
   "cell_type": "code",
   "execution_count": 20,
   "metadata": {},
   "outputs": [],
   "source": [
    "# Replace strings in \"cuisine_type\" column using for loop\n",
    "for cuisine in cuisines:\n",
    "    matches = process.extract(cuisine, restaurants[\"cuisine_type\"], limit=len(restaurants[\"cuisine_type\"]))\n",
    "    for match in matches: \n",
    "        if match[1] >= 80:\n",
    "            restaurants.loc[restaurants[\"cuisine_type\"] == match[0]] = cuisine"
   ]
  },
  {
   "cell_type": "code",
   "execution_count": 21,
   "metadata": {},
   "outputs": [
    {
     "data": {
      "text/plain": [
       "cuisine_type\n",
       "mexican         146\n",
       "italian          78\n",
       "asian            72\n",
       "coffeebar        25\n",
       "southern          8\n",
       "steakhouses       5\n",
       "southwestern      1\n",
       "cajun             1\n",
       "Name: count, dtype: int64"
      ]
     },
     "execution_count": 21,
     "metadata": {},
     "output_type": "execute_result"
    }
   ],
   "source": [
    "# Count the values of each category in \"cuisine_type\"\n",
    "restaurants[\"cuisine_type\"].value_counts()"
   ]
  }
 ],
 "metadata": {
  "kernelspec": {
   "display_name": "base",
   "language": "python",
   "name": "python3"
  },
  "language_info": {
   "codemirror_mode": {
    "name": "ipython",
    "version": 3
   },
   "file_extension": ".py",
   "mimetype": "text/x-python",
   "name": "python",
   "nbconvert_exporter": "python",
   "pygments_lexer": "ipython3",
   "version": "3.11.7"
  }
 },
 "nbformat": 4,
 "nbformat_minor": 2
}
