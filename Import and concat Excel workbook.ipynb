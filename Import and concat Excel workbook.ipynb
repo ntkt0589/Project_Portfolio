{
 "cells": [
  {
   "cell_type": "code",
   "execution_count": null,
   "id": "46ce3963",
   "metadata": {},
   "outputs": [],
   "source": [
    "import pandas as pd\n",
    "xls= pd.ExcelFile(r\"C:\\Users\\trinh.ngo\\OneDrive - Terasys-Network\\Dokumente\\Sushi Mania\\Verkauf Bericht Power BI\\Abverkauf\\Alle Sushi Corner_14.08-19.11.xlsx\")\n",
    "names= xls.sheet_names\n",
    "listings=[]\n",
    "for name in names:\n",
    "    listing= pd.read_excel(xls, sheet_name= name, na_values= 'n/a', skiprows=1)\n",
    "    listing.drop(listing.tail(6).index, inplace= True)\n",
    "#delete the second column\n",
    "    listing.drop(columns= listing.columns[1], inplace= True)\n",
    "    listing['Datum']= pd.to_datetime(name)\n",
    "#drop filiale 'Sion' out to the list\n",
    "    listing = listing[listing['Filiale (KST)']!= 'Sion']\n",
    "    listings.append(listing)\n",
    "listing_data= pd.concat(listings)\n",
    "listing_data.info()"
   ]
  },
  {
   "cell_type": "code",
   "execution_count": null,
   "id": "5059a05a",
   "metadata": {},
   "outputs": [],
   "source": [
    "basel_xls= pd.ExcelFile(r\"C:\\Users\\trinh.ngo\\OneDrive - Terasys-Network\\Dokumente\\Sushi Mania\\Verkauf Bericht Power BI\\Abverkauf\\Basel_14.08-19.11.xlsx\")\n",
    "basel_names= basel_xls.sheet_names\n",
    "basel_listings=[]\n",
    "for basel_name in basel_names:\n",
    "#read sheet in basel_xls and skip the first row\n",
    "    basel_listing= pd.read_excel(basel_xls, sheet_name= basel_name, na_values= 'n/a', skiprows= 1)\n",
    "#delete the last 6 rows \n",
    "    basel_listing.drop(basel_listing.tail(6).index, inplace= True)\n",
    "#add column 'Datum' with value is datetime of sheet name\n",
    "    basel_listing['Datum']= pd.to_datetime(basel_name)\n",
    "#add column 'Filiale (KST)' with value 'Gastro Basel'\n",
    "    basel_listing['Filiale (KST)']= 'Gastro Basel'\n",
    "#move 'Filiale (KST)' column to the first position\n",
    "    basel_listing.insert(0,'Filiale (KST)', basel_listing.pop('Filiale (KST)'))\n",
    "    basel_listings.append(basel_listing)\n",
    "basel_listing_data= pd.concat(basel_listings)\n",
    "basel_listing_data.info()"
   ]
  },
  {
   "cell_type": "code",
   "execution_count": null,
   "id": "775eb02e",
   "metadata": {
    "scrolled": false
   },
   "outputs": [],
   "source": [
    "lugano_xls= pd.ExcelFile(r\"C:\\Users\\trinh.ngo\\OneDrive - Terasys-Network\\Dokumente\\Sushi Mania\\Verkauf Bericht Power BI\\Abverkauf\\Lugano_14.08-19.11.xlsx\")\n",
    "lugano_names= lugano_xls.sheet_names\n",
    "lugano_listings= []\n",
    "for lugano_name in lugano_names:\n",
    "    lugano_listing= pd.read_excel(lugano_xls, sheet_name= lugano_name, na_values= 'n/a', skiprows= 1)\n",
    "    lugano_listing.drop(lugano_listing.tail(6).index, inplace = True)\n",
    "    lugano_listing['Filiale (KST)'] = 'Gastro Lugano'\n",
    "    lugano_listing.insert(0, 'Filiale (KST)', lugano_listing.pop('Filiale (KST)'))\n",
    "    lugano_listing['Datum']= pd.to_datetime(lugano_name)\n",
    "    lugano_listings.append(lugano_listing)\n",
    "lugano_listing_data= pd.concat(lugano_listings)\n",
    "lugano_listing_data.info()"
   ]
  },
  {
   "cell_type": "code",
   "execution_count": null,
   "id": "00efaf41",
   "metadata": {},
   "outputs": [],
   "source": [
    "import matplotlib.pyplot as plt\n",
    "ax= lugano_listing_data.groupby('Datum')['Abv. Umsatz exkl. MWSt Fr.'].sum().plot(marker='o')\n",
    "ax.set_title('Sales by Date')"
   ]
  },
  {
   "cell_type": "code",
   "execution_count": null,
   "id": "f8b983d9",
   "metadata": {},
   "outputs": [],
   "source": [
    "sanantonino_xls= pd.ExcelFile(r\"C:\\Users\\trinh.ngo\\OneDrive - Terasys-Network\\Dokumente\\Sushi Mania\\Verkauf Bericht Power BI\\Abverkauf\\San Antonino_21.08-19.11.xlsx\")\n",
    "sanantonino_names= sanantonino_xls.sheet_names\n",
    "sanantonino_listings= []\n",
    "for sanantonino_name in sanantonino_names:\n",
    "    sanantonino_listing= pd.read_excel(sanantonino_xls, sheet_name= sanantonino_name, na_values= 'n/a', skiprows= 1)\n",
    "    sanantonino_listing.drop(sanantonino_listing.tail(6).index, inplace = True)\n",
    "    sanantonino_listing['Filiale (KST)'] = 'MR San Antonino'\n",
    "    sanantonino_listing.insert(0, 'Filiale (KST)', sanantonino_listing.pop('Filiale (KST)'))\n",
    "    sanantonino_listing['Datum']= pd.to_datetime(sanantonino_name)\n",
    "    sanantonino_listings.append(sanantonino_listing)\n",
    "sanantonino_listing_data= pd.concat(sanantonino_listings)\n",
    "sanantonino_listing_data.info()"
   ]
  },
  {
   "cell_type": "code",
   "execution_count": null,
   "id": "623a542a",
   "metadata": {},
   "outputs": [],
   "source": [
    "consign_bany_xls= pd.ExcelFile(r\"C:\\Users\\trinh.ngo\\OneDrive - Terasys-Network\\Dokumente\\Sushi Mania\\Verkauf Bericht Power BI\\Abverkauf\\Consignation_Balexert_Nyon_14.08-19.11.xlsx\")\n",
    "consign_bany_names= consign_bany_xls.sheet_names\n",
    "consign_bany_listings=[]\n",
    "for consign_bany_name in consign_bany_names:\n",
    "    consign_bany_listing= pd.read_excel(consign_bany_xls, sheet_name= consign_bany_name, na_values= 'n/a', skiprows= 1)\n",
    "    consign_bany_listing.drop(consign_bany_listing.tail(6).index, inplace= True)\n",
    "    consign_bany_listing.drop(consign_bany_listing.columns[1], axis= 1, inplace= True)\n",
    "    consign_bany_listing= consign_bany_listing.replace(['Balexert', 'Nyon La Combe'], ['Consignation Balexert','Consignation Nyon La Combe'])\n",
    "    consign_bany_listing['Datum']= pd.to_datetime(consign_bany_name)\n",
    "    consign_bany_listings.append(consign_bany_listing)\n",
    "consign_bany_listing_data= pd.concat(consign_bany_listings)\n",
    "consign_bany_listing_data.info()\n",
    "consign_bany_listing_data.to_excel(r\"C:\\Users\\trinh.ngo\\OneDrive - Terasys-Network\\Dokumente\\Sushi Mania\\Verkauf Bericht Power BI\\To_excel\\Consign_bany.xlsx\", index= False)"
   ]
  },
  {
   "cell_type": "code",
   "execution_count": null,
   "id": "b267606b",
   "metadata": {},
   "outputs": [],
   "source": [
    "consign_neu_xls= pd.ExcelFile(r\"C:\\Users\\trinh.ngo\\OneDrive - Terasys-Network\\Dokumente\\Sushi Mania\\Verkauf Bericht Power BI\\Abverkauf\\Consignation_Neuwiesen_Neumarkt_14.08-19.11.xlsx\")\n",
    "consign_neu_names= consign_neu_xls.sheet_names\n",
    "consign_neu_listings=[]\n",
    "for consign_neu_name in consign_neu_names:\n",
    "    consign_neu_listing= pd.read_excel(consign_neu_xls, sheet_name= consign_neu_name, na_values= 'n/a', skiprows= 1)\n",
    "    consign_neu_listing.drop(consign_neu_listing.tail(6).index, inplace= True)\n",
    "    consign_neu_listing.drop(consign_neu_listing.columns[1], axis= 1, inplace= True)\n",
    "    consign_neu_listing= consign_neu_listing.replace(['MMM Neuwiesen', 'MMM Neumarkt'], ['Consignation MMM Neuwiesen', 'Consignation MMM Neumarkt'])\n",
    "    consign_neu_listing['Datum']= pd.to_datetime(consign_neu_name)\n",
    "    consign_neu_listings.append(consign_neu_listing)\n",
    "consign_neu_listing_data= pd.concat(consign_neu_listings)\n",
    "consign_neu_listing_data.info()"
   ]
  },
  {
   "cell_type": "code",
   "execution_count": null,
   "id": "c040d1cc",
   "metadata": {},
   "outputs": [],
   "source": [
    "sion_xls= pd.ExcelFile(r\"C:\\Users\\trinh.ngo\\OneDrive - Terasys-Network\\Dokumente\\Sushi Mania\\Verkauf Bericht Power BI\\Abverkauf\\Sion_14.08-04.11.xlsx\")\n",
    "sion_names= sion_xls.sheet_names\n",
    "sion_listings=[]\n",
    "for sion_name in sion_names:\n",
    "    sion_listing= pd.read_excel(sion_xls, sheet_name= sion_name, na_values= 'n/a', skiprows= 1)\n",
    "    sion_listing.drop(sion_listing.tail(6).index, inplace= True)\n",
    "    sion_listing.drop(sion_listing.columns[1], axis= 1, inplace= True)\n",
    "    sion_listing['Datum']= pd.to_datetime(sion_name)\n",
    "    sion_listings.append(sion_listing)\n",
    "sion_listing_data= pd.concat(sion_listings)\n",
    "sion_listing_data.info()"
   ]
  },
  {
   "cell_type": "code",
   "execution_count": null,
   "id": "f57f1b34",
   "metadata": {},
   "outputs": [],
   "source": [
    "tagmaa_xls= pd.ExcelFile(r\"C:\\Users\\trinh.ngo\\OneDrive - Terasys-Network\\Dokumente\\Sushi Mania\\Verkauf Bericht Power BI\\Abverkauf\\TA GMAA_14.08-19.11.xlsx\")\n",
    "tagmaa_names= tagmaa_xls.sheet_names\n",
    "tagmaa_listings=[]\n",
    "for tagmaa_name in tagmaa_names:\n",
    "    tagmaa_listing= pd.read_excel(tagmaa_xls, sheet_name= tagmaa_name, na_values= 'n/a', skiprows= 1)\n",
    "    tagmaa_listing.drop(tagmaa_listing.tail(6).index, inplace= True)\n",
    "    tagmaa_listing.drop(tagmaa_listing.columns[1], axis= 1, inplace= True)\n",
    "    tagmaa_listing['Datum']= pd.to_datetime(tagmaa_name)\n",
    "    tagmaa_listings.append(tagmaa_listing)\n",
    "tagmaa_listing_data= pd.concat(tagmaa_listings)\n",
    "tagmaa_listing_data"
   ]
  },
  {
   "cell_type": "code",
   "execution_count": null,
   "id": "a0b8be3a",
   "metadata": {},
   "outputs": [],
   "source": [
    "zürich_xls= pd.ExcelFile(r\"C:\\Users\\trinh.ngo\\OneDrive - Terasys-Network\\Dokumente\\Sushi Mania\\Verkauf Bericht Power BI\\Abverkauf\\Zürich_14.08-19.11.xlsx\")\n",
    "zürich_names= zürich_xls.sheet_names\n",
    "zürich_listings=[]\n",
    "for zürich_name in zürich_names:\n",
    "    zürich_listing= pd.read_excel(zürich_xls, sheet_name= zürich_name, na_values= 'n/a', skiprows= 1)\n",
    "    zürich_listing.drop(zürich_listing.tail(6).index, inplace= True)\n",
    "    zürich_listing.drop(zürich_listing.columns[1], axis= 1, inplace= True)\n",
    "    zürich_listing['Datum']= pd.to_datetime(zürich_name)\n",
    "    zürich_listings.append(zürich_listing)\n",
    "zürich_listing_data= pd.concat(zürich_listings)\n",
    "zürich_listing_data"
   ]
  },
  {
   "cell_type": "code",
   "execution_count": null,
   "id": "db38b0f1",
   "metadata": {
    "scrolled": true
   },
   "outputs": [],
   "source": [
    "df= pd.concat([listing_data, basel_listing_data, lugano_listing_data, zürich_listing_data, sion_listing_data, sanantonino_listing_data, consign_bany_listing_data, consign_neu_listing_data, tagmaa_listing_data], axis=0)\n",
    "df.tail()"
   ]
  },
  {
   "cell_type": "code",
   "execution_count": null,
   "id": "7b8db2ad",
   "metadata": {
    "scrolled": true
   },
   "outputs": [],
   "source": [
    "import pandas as pd\n",
    "df.rename(columns={'12-Steller':'Produkt'}, inplace= True)\n",
    "df.info()\n",
    "df['Produkt']= df['Produkt'].str.title()"
   ]
  },
  {
   "cell_type": "code",
   "execution_count": null,
   "id": "4eb25679",
   "metadata": {},
   "outputs": [],
   "source": [
    "df.to_excel(r\"C:\\Users\\trinh.ngo\\OneDrive - Terasys-Network\\Dokumente\\Sushi Mania\\Verkauf Bericht Power BI\\To_excel\\Abverkauf_14.08-19.11.xlsx\", index= False)"
   ]
  },
  {
   "cell_type": "code",
   "execution_count": null,
   "id": "91a337de",
   "metadata": {},
   "outputs": [],
   "source": []
  }
 ],
 "metadata": {
  "kernelspec": {
   "display_name": "Python 3 (ipykernel)",
   "language": "python",
   "name": "python3"
  },
  "language_info": {
   "codemirror_mode": {
    "name": "ipython",
    "version": 3
   },
   "file_extension": ".py",
   "mimetype": "text/x-python",
   "name": "python",
   "nbconvert_exporter": "python",
   "pygments_lexer": "ipython3",
   "version": "3.9.13"
  }
 },
 "nbformat": 4,
 "nbformat_minor": 5
}
