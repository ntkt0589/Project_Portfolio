{
 "cells": [
  {
   "cell_type": "code",
   "execution_count": 3,
   "id": "002c2cd3",
   "metadata": {},
   "outputs": [
    {
     "data": {
      "text/plain": [
       "[25.3,\n",
       " 27.2,\n",
       " 35.5,\n",
       " 22.4,\n",
       " 26.9,\n",
       " 22.0,\n",
       " 26.1,\n",
       " 31.5,\n",
       " 28.3,\n",
       " 35.1,\n",
       " 31.6,\n",
       " 33.7,\n",
       " 24.0,\n",
       " 37.8,\n",
       " 35.2,\n",
       " 23.6,\n",
       " 27.1,\n",
       " 34.1,\n",
       " 34.4,\n",
       " 25.1,\n",
       " 33.8,\n",
       " 25.8,\n",
       " 32.1,\n",
       " 23.5,\n",
       " 38.2,\n",
       " 24.1,\n",
       " 23.5,\n",
       " 27.9,\n",
       " 38.4,\n",
       " 34.6,\n",
       " 38.9,\n",
       " 22.4,\n",
       " 23.1,\n",
       " 24.9,\n",
       " 22.9,\n",
       " 34.4,\n",
       " 27.0,\n",
       " 31.1,\n",
       " 25.5,\n",
       " 22.7,\n",
       " 32.0,\n",
       " 37.7,\n",
       " 21.4,\n",
       " 34.9,\n",
       " 26.1,\n",
       " 28.5,\n",
       " 20.8,\n",
       " 30.8,\n",
       " 26.3,\n",
       " 21.7,\n",
       " 33.8,\n",
       " 21.2,\n",
       " 24.3,\n",
       " 30.1,\n",
       " 33.2,\n",
       " 29.6,\n",
       " 31.4,\n",
       " 31.0,\n",
       " 40.1,\n",
       " 34.2,\n",
       " 38.7,\n",
       " 37.5,\n",
       " 36.2,\n",
       " 35.4,\n",
       " 28.2,\n",
       " 26.2,\n",
       " 35.1,\n",
       " 22.1,\n",
       " 37.9,\n",
       " 36.0,\n",
       " 29.5,\n",
       " 35.0,\n",
       " 29.3,\n",
       " 21.5,\n",
       " 22.8,\n",
       " 34.1,\n",
       " 25.3,\n",
       " 23.6,\n",
       " 39.5,\n",
       " 26.1,\n",
       " 22.1,\n",
       " 32.4,\n",
       " 25.9,\n",
       " 21.9,\n",
       " 34.3,\n",
       " 37.2,\n",
       " 33.2,\n",
       " 30.8,\n",
       " 26.5,\n",
       " 20.5,\n",
       " 36.6,\n",
       " 22.5,\n",
       " 20.2,\n",
       " 26.4,\n",
       " 37.2,\n",
       " 37.4,\n",
       " 28.2,\n",
       " 38.2,\n",
       " 23.2,\n",
       " 23.2,\n",
       " 29.3,\n",
       " 25.5,\n",
       " 34.1,\n",
       " 30.8,\n",
       " 35.5,\n",
       " 26.8,\n",
       " 32.5,\n",
       " 32.7,\n",
       " 22.8,\n",
       " 24.0,\n",
       " 38.6,\n",
       " 37.9,\n",
       " 39.5,\n",
       " 28.4,\n",
       " 34.6,\n",
       " 37.8,\n",
       " 38.8,\n",
       " 33.8,\n",
       " 21.9,\n",
       " 37.7]"
      ]
     },
     "execution_count": 3,
     "metadata": {},
     "output_type": "execute_result"
    }
   ],
   "source": [
    "import random\n",
    "import pandas as pd\n",
    "\n",
    "list_ma = []\n",
    "for i in range(120):\n",
    "    i = round(random.uniform(20.1, 40.1),1)\n",
    "    list_ma.append(i)\n",
    "list_ma"
   ]
  },
  {
   "cell_type": "code",
   "execution_count": 15,
   "id": "80d1c0af",
   "metadata": {
    "scrolled": true
   },
   "outputs": [
    {
     "name": "stdout",
     "output_type": "stream",
     "text": [
      "<class 'pandas.core.frame.DataFrame'>\n",
      "RangeIndex: 120 entries, 0 to 119\n",
      "Data columns (total 1 columns):\n",
      " #   Column               Non-Null Count  Dtype  \n",
      "---  ------               --------------  -----  \n",
      " 0   Material/Umsatz (%)  120 non-null    float64\n",
      "dtypes: float64(1)\n",
      "memory usage: 1.1 KB\n"
     ]
    }
   ],
   "source": [
    "df = pd.DataFrame(list_ma, columns=[\"Material/Umsatz (%)\"])\n",
    "df.info()"
   ]
  },
  {
   "cell_type": "code",
   "execution_count": 9,
   "id": "c1542b3e",
   "metadata": {},
   "outputs": [],
   "source": [
    "list_m = []\n",
    "for i in range(120):\n",
    "    i = round(random.uniform(3500.15, 14555.55),2)\n",
    "    list_m.append(i)\n",
    "\n",
    "df_m = pd.DataFrame(list_m, columns=[\"Material\"])\n"
   ]
  },
  {
   "cell_type": "code",
   "execution_count": 18,
   "id": "a5fde5b2",
   "metadata": {},
   "outputs": [],
   "source": [
    "df[\"Material\"] = df_m\n",
    "df[\"Umsatz\"] = (df[\"Material\"] / df[\"Material/Umsatz (%)\"] * 100).round(2)"
   ]
  },
  {
   "cell_type": "code",
   "execution_count": 19,
   "id": "a2a73d6b",
   "metadata": {},
   "outputs": [],
   "source": [
    "df.to_excel(r\"C:\\Users\\trinh.ngo\\OneDrive - Terasys-Network\\Dokumente\\Mein Dokument\\Lernmaterial\\Data Science\\Projekte & Datasets\\Projekt Portfolio\\Projekt Portfolio_2023_KUV\\Random_cost.xlsx\", index=False)"
   ]
  }
 ],
 "metadata": {
  "kernelspec": {
   "display_name": "Python 3 (ipykernel)",
   "language": "python",
   "name": "python3"
  },
  "language_info": {
   "codemirror_mode": {
    "name": "ipython",
    "version": 3
   },
   "file_extension": ".py",
   "mimetype": "text/x-python",
   "name": "python",
   "nbconvert_exporter": "python",
   "pygments_lexer": "ipython3",
   "version": "3.11.7"
  }
 },
 "nbformat": 4,
 "nbformat_minor": 5
}
