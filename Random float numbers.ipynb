{
 "cells": [
  {
   "cell_type": "code",
   "execution_count": 8,
   "id": "002c2cd3",
   "metadata": {},
   "outputs": [],
   "source": [
    "import random\n",
    "import pandas as pd\n",
    "\n",
    "list_ma = []\n",
    "for i in range(120):\n",
    "    i = round(random.uniform(20.1, 40.1), 1)\n",
    "    list_ma.append(i)"
   ]
  },
  {
   "cell_type": "code",
   "execution_count": 9,
   "id": "80d1c0af",
   "metadata": {
    "scrolled": true
   },
   "outputs": [
    {
     "name": "stdout",
     "output_type": "stream",
     "text": [
      "<class 'pandas.core.frame.DataFrame'>\n",
      "RangeIndex: 120 entries, 0 to 119\n",
      "Data columns (total 1 columns):\n",
      " #   Column               Non-Null Count  Dtype  \n",
      "---  ------               --------------  -----  \n",
      " 0   Material/Umsatz (%)  120 non-null    float64\n",
      "dtypes: float64(1)\n",
      "memory usage: 1.1 KB\n"
     ]
    }
   ],
   "source": [
    "df = pd.DataFrame(list_ma, columns=[\"Material/Umsatz (%)\"])\n",
    "df.info()"
   ]
  },
  {
   "cell_type": "code",
   "execution_count": 10,
   "id": "c1542b3e",
   "metadata": {},
   "outputs": [],
   "source": [
    "list_m = []\n",
    "for i in range(120):\n",
    "    i = round(random.uniform(3500.15, 14555.55),2)\n",
    "    list_m.append(i)\n",
    "\n",
    "df_m = pd.DataFrame(list_m, columns=[\"Material\"])\n"
   ]
  },
  {
   "cell_type": "code",
   "execution_count": 11,
   "id": "a5fde5b2",
   "metadata": {},
   "outputs": [],
   "source": [
    "df[\"Material\"] = df_m\n",
    "df[\"Umsatz\"] = (df[\"Material\"] / df[\"Material/Umsatz (%)\"] * 100).round(2)"
   ]
  },
  {
   "cell_type": "code",
   "execution_count": 12,
   "id": "a2a73d6b",
   "metadata": {},
   "outputs": [],
   "source": [
    "df.to_excel(r\"C:\\Users\\trinh.ngo\\OneDrive - Terasys-Network\\Dokumente\\Mein Dokument\\Lernmaterial\\Data Science\\Projekte & Datasets\\Projekt Portfolio\\Projekt Portfolio_2023_KUV\\Random_cost.xlsx\", index=False)"
   ]
  }
 ],
 "metadata": {
  "kernelspec": {
   "display_name": "Python 3 (ipykernel)",
   "language": "python",
   "name": "python3"
  },
  "language_info": {
   "codemirror_mode": {
    "name": "ipython",
    "version": 3
   },
   "file_extension": ".py",
   "mimetype": "text/x-python",
   "name": "python",
   "nbconvert_exporter": "python",
   "pygments_lexer": "ipython3",
   "version": "3.11.7"
  }
 },
 "nbformat": 4,
 "nbformat_minor": 5
}
