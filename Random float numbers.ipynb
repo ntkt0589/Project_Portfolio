{
 "cells": [
  {
   "cell_type": "code",
   "execution_count": 28,
   "id": "002c2cd3",
   "metadata": {},
   "outputs": [],
   "source": [
    "import random\n",
    "import pandas as pd\n",
    "random_numbers= []\n",
    "for i in range(120):\n",
    "    i= round(random.uniform(20.1, 40.1),1)\n",
    "    random_numbers.append(i)"
   ]
  },
  {
   "cell_type": "code",
   "execution_count": 29,
   "id": "80d1c0af",
   "metadata": {
    "scrolled": true
   },
   "outputs": [],
   "source": [
    "import pandas as pd\n",
    "random_column= pd.DataFrame(random_numbers, columns= ['M/U'])"
   ]
  },
  {
   "cell_type": "code",
   "execution_count": 30,
   "id": "64833dc5",
   "metadata": {},
   "outputs": [
    {
     "data": {
      "text/html": [
       "<div>\n",
       "<style scoped>\n",
       "    .dataframe tbody tr th:only-of-type {\n",
       "        vertical-align: middle;\n",
       "    }\n",
       "\n",
       "    .dataframe tbody tr th {\n",
       "        vertical-align: top;\n",
       "    }\n",
       "\n",
       "    .dataframe thead th {\n",
       "        text-align: right;\n",
       "    }\n",
       "</style>\n",
       "<table border=\"1\" class=\"dataframe\">\n",
       "  <thead>\n",
       "    <tr style=\"text-align: right;\">\n",
       "      <th></th>\n",
       "      <th>M/U</th>\n",
       "    </tr>\n",
       "  </thead>\n",
       "  <tbody>\n",
       "    <tr>\n",
       "      <th>0</th>\n",
       "      <td>20.9</td>\n",
       "    </tr>\n",
       "    <tr>\n",
       "      <th>1</th>\n",
       "      <td>26.9</td>\n",
       "    </tr>\n",
       "    <tr>\n",
       "      <th>2</th>\n",
       "      <td>36.0</td>\n",
       "    </tr>\n",
       "    <tr>\n",
       "      <th>3</th>\n",
       "      <td>27.9</td>\n",
       "    </tr>\n",
       "    <tr>\n",
       "      <th>4</th>\n",
       "      <td>37.6</td>\n",
       "    </tr>\n",
       "    <tr>\n",
       "      <th>...</th>\n",
       "      <td>...</td>\n",
       "    </tr>\n",
       "    <tr>\n",
       "      <th>115</th>\n",
       "      <td>27.1</td>\n",
       "    </tr>\n",
       "    <tr>\n",
       "      <th>116</th>\n",
       "      <td>31.8</td>\n",
       "    </tr>\n",
       "    <tr>\n",
       "      <th>117</th>\n",
       "      <td>25.9</td>\n",
       "    </tr>\n",
       "    <tr>\n",
       "      <th>118</th>\n",
       "      <td>20.2</td>\n",
       "    </tr>\n",
       "    <tr>\n",
       "      <th>119</th>\n",
       "      <td>36.2</td>\n",
       "    </tr>\n",
       "  </tbody>\n",
       "</table>\n",
       "<p>120 rows × 1 columns</p>\n",
       "</div>"
      ],
      "text/plain": [
       "      M/U\n",
       "0    20.9\n",
       "1    26.9\n",
       "2    36.0\n",
       "3    27.9\n",
       "4    37.6\n",
       "..    ...\n",
       "115  27.1\n",
       "116  31.8\n",
       "117  25.9\n",
       "118  20.2\n",
       "119  36.2\n",
       "\n",
       "[120 rows x 1 columns]"
      ]
     },
     "execution_count": 30,
     "metadata": {},
     "output_type": "execute_result"
    }
   ],
   "source": [
    "random_column"
   ]
  },
  {
   "cell_type": "code",
   "execution_count": 31,
   "id": "c1542b3e",
   "metadata": {},
   "outputs": [],
   "source": [
    "random_material=[]\n",
    "for i in range(120):\n",
    "    i = round(random.uniform(3500.15, 14555.55),2)\n",
    "    random_material.append(i)"
   ]
  },
  {
   "cell_type": "code",
   "execution_count": 32,
   "id": "20230225",
   "metadata": {},
   "outputs": [],
   "source": [
    "random_material\n",
    "random_materials=pd.DataFrame(random_material, columns= ['Material'])"
   ]
  },
  {
   "cell_type": "code",
   "execution_count": 33,
   "id": "96b136af",
   "metadata": {},
   "outputs": [],
   "source": [
    "random_materials['M/U'] = random_column"
   ]
  },
  {
   "cell_type": "code",
   "execution_count": 34,
   "id": "eacad9b2",
   "metadata": {},
   "outputs": [
    {
     "data": {
      "text/html": [
       "<div>\n",
       "<style scoped>\n",
       "    .dataframe tbody tr th:only-of-type {\n",
       "        vertical-align: middle;\n",
       "    }\n",
       "\n",
       "    .dataframe tbody tr th {\n",
       "        vertical-align: top;\n",
       "    }\n",
       "\n",
       "    .dataframe thead th {\n",
       "        text-align: right;\n",
       "    }\n",
       "</style>\n",
       "<table border=\"1\" class=\"dataframe\">\n",
       "  <thead>\n",
       "    <tr style=\"text-align: right;\">\n",
       "      <th></th>\n",
       "      <th>Material</th>\n",
       "      <th>M/U</th>\n",
       "    </tr>\n",
       "  </thead>\n",
       "  <tbody>\n",
       "    <tr>\n",
       "      <th>0</th>\n",
       "      <td>6445.65</td>\n",
       "      <td>20.9</td>\n",
       "    </tr>\n",
       "    <tr>\n",
       "      <th>1</th>\n",
       "      <td>12798.87</td>\n",
       "      <td>26.9</td>\n",
       "    </tr>\n",
       "    <tr>\n",
       "      <th>2</th>\n",
       "      <td>11544.24</td>\n",
       "      <td>36.0</td>\n",
       "    </tr>\n",
       "    <tr>\n",
       "      <th>3</th>\n",
       "      <td>13923.48</td>\n",
       "      <td>27.9</td>\n",
       "    </tr>\n",
       "    <tr>\n",
       "      <th>4</th>\n",
       "      <td>13925.24</td>\n",
       "      <td>37.6</td>\n",
       "    </tr>\n",
       "    <tr>\n",
       "      <th>...</th>\n",
       "      <td>...</td>\n",
       "      <td>...</td>\n",
       "    </tr>\n",
       "    <tr>\n",
       "      <th>115</th>\n",
       "      <td>3991.44</td>\n",
       "      <td>27.1</td>\n",
       "    </tr>\n",
       "    <tr>\n",
       "      <th>116</th>\n",
       "      <td>13675.61</td>\n",
       "      <td>31.8</td>\n",
       "    </tr>\n",
       "    <tr>\n",
       "      <th>117</th>\n",
       "      <td>3746.67</td>\n",
       "      <td>25.9</td>\n",
       "    </tr>\n",
       "    <tr>\n",
       "      <th>118</th>\n",
       "      <td>12541.06</td>\n",
       "      <td>20.2</td>\n",
       "    </tr>\n",
       "    <tr>\n",
       "      <th>119</th>\n",
       "      <td>10810.69</td>\n",
       "      <td>36.2</td>\n",
       "    </tr>\n",
       "  </tbody>\n",
       "</table>\n",
       "<p>120 rows × 2 columns</p>\n",
       "</div>"
      ],
      "text/plain": [
       "     Material   M/U\n",
       "0     6445.65  20.9\n",
       "1    12798.87  26.9\n",
       "2    11544.24  36.0\n",
       "3    13923.48  27.9\n",
       "4    13925.24  37.6\n",
       "..        ...   ...\n",
       "115   3991.44  27.1\n",
       "116  13675.61  31.8\n",
       "117   3746.67  25.9\n",
       "118  12541.06  20.2\n",
       "119  10810.69  36.2\n",
       "\n",
       "[120 rows x 2 columns]"
      ]
     },
     "execution_count": 34,
     "metadata": {},
     "output_type": "execute_result"
    }
   ],
   "source": [
    "random_materials"
   ]
  },
  {
   "cell_type": "code",
   "execution_count": 35,
   "id": "b578d5e4",
   "metadata": {},
   "outputs": [],
   "source": [
    "random_materials.to_excel(r\"C:\\Users\\trinh.ngo\\OneDrive - Terasys-Network\\Dokumente\\Mein Ordner\\Lernmaterial\\Data Science\\Dataset\\Random_Materialkosten.xlsx\", index= False)"
   ]
  },
  {
   "cell_type": "code",
   "execution_count": null,
   "id": "5040056a",
   "metadata": {},
   "outputs": [],
   "source": []
  }
 ],
 "metadata": {
  "kernelspec": {
   "display_name": "Python 3 (ipykernel)",
   "language": "python",
   "name": "python3"
  },
  "language_info": {
   "codemirror_mode": {
    "name": "ipython",
    "version": 3
   },
   "file_extension": ".py",
   "mimetype": "text/x-python",
   "name": "python",
   "nbconvert_exporter": "python",
   "pygments_lexer": "ipython3",
   "version": "3.9.13"
  }
 },
 "nbformat": 4,
 "nbformat_minor": 5
}
