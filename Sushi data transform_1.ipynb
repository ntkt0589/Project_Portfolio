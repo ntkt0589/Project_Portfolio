{
 "cells": [
  {
   "cell_type": "code",
   "execution_count": 1,
   "id": "cfee2a51",
   "metadata": {
    "scrolled": true
   },
   "outputs": [
    {
     "name": "stdout",
     "output_type": "stream",
     "text": [
      "<class 'pandas.core.frame.DataFrame'>\n",
      "RangeIndex: 19833 entries, 0 to 19832\n",
      "Data columns (total 18 columns):\n",
      " #   Column                            Non-Null Count  Dtype         \n",
      "---  ------                            --------------  -----         \n",
      " 0   Filiale (KST)                     19833 non-null  object        \n",
      " 1   Datum                             19833 non-null  datetime64[ns]\n",
      " 2   Produkt                           19833 non-null  object        \n",
      " 3   12-Steller                        19833 non-null  int64         \n",
      " 4   Abv. Umsatz inkl. MWSt Fr.        19833 non-null  float64       \n",
      " 5   Abv. MWSt reduziert Fr.           19833 non-null  float64       \n",
      " 6   Abv. MWSt normal Fr.              19833 non-null  float64       \n",
      " 7   Abv. Umsatz exkl. MWSt Fr.        19833 non-null  float64       \n",
      " 8   Abv. Umsatz Stk./kg               19833 non-null  int64         \n",
      " 9   Abv. Messmenge kg                 19833 non-null  float64       \n",
      " 10  Abv. Basismenge Stk./kg           19833 non-null  int64         \n",
      " 11  Marge Fr.                         19833 non-null  float64       \n",
      " 12  Marge %                           19833 non-null  float64       \n",
      " 13  Erlösminderung Angebot Fr.        19833 non-null  float64       \n",
      " 14  Erlösminderung Ausnahmepreis Fr.  19833 non-null  float64       \n",
      " 15  Preiskorrektur (PreisTyp) Fr.     19833 non-null  int64         \n",
      " 16  Cumuluspunkte Normal              19833 non-null  float64       \n",
      " 17  Cumuluspunkte Zusatz              19833 non-null  float64       \n",
      "dtypes: datetime64[ns](1), float64(11), int64(4), object(2)\n",
      "memory usage: 2.7+ MB\n"
     ]
    }
   ],
   "source": [
    "import pandas as pd\n",
    "data= pd.read_excel(r\"C:\\Users\\trinh.ngo\\OneDrive - Terasys-Network\\Dokumente\\Sushi Mania\\Verkauf Bericht Power BI\\fiktive Sushi Unternehmen Daten.xlsx\")\n",
    "data.info()"
   ]
  },
  {
   "cell_type": "code",
   "execution_count": 2,
   "id": "0fe7f97e",
   "metadata": {},
   "outputs": [],
   "source": [
    "data= data.drop(columns=['12-Steller','Abv. MWSt reduziert Fr.','Abv. MWSt normal Fr.','Abv. Basismenge Stk./kg'])"
   ]
  },
  {
   "cell_type": "code",
   "execution_count": 3,
   "id": "1adb54a4",
   "metadata": {},
   "outputs": [
    {
     "name": "stdout",
     "output_type": "stream",
     "text": [
      "<class 'pandas.core.frame.DataFrame'>\n",
      "RangeIndex: 19833 entries, 0 to 19832\n",
      "Data columns (total 14 columns):\n",
      " #   Column                            Non-Null Count  Dtype         \n",
      "---  ------                            --------------  -----         \n",
      " 0   Filiale (KST)                     19833 non-null  object        \n",
      " 1   Datum                             19833 non-null  datetime64[ns]\n",
      " 2   Produkt                           19833 non-null  object        \n",
      " 3   Abv. Umsatz inkl. MWSt Fr.        19833 non-null  float64       \n",
      " 4   Abv. Umsatz exkl. MWSt Fr.        19833 non-null  float64       \n",
      " 5   Abv. Umsatz Stk./kg               19833 non-null  int64         \n",
      " 6   Abv. Messmenge kg                 19833 non-null  float64       \n",
      " 7   Marge Fr.                         19833 non-null  float64       \n",
      " 8   Marge %                           19833 non-null  float64       \n",
      " 9   Erlösminderung Angebot Fr.        19833 non-null  float64       \n",
      " 10  Erlösminderung Ausnahmepreis Fr.  19833 non-null  float64       \n",
      " 11  Preiskorrektur (PreisTyp) Fr.     19833 non-null  int64         \n",
      " 12  Cumuluspunkte Normal              19833 non-null  float64       \n",
      " 13  Cumuluspunkte Zusatz              19833 non-null  float64       \n",
      "dtypes: datetime64[ns](1), float64(9), int64(2), object(2)\n",
      "memory usage: 2.1+ MB\n"
     ]
    }
   ],
   "source": [
    "data.info()"
   ]
  },
  {
   "cell_type": "code",
   "execution_count": 4,
   "id": "351f6542",
   "metadata": {},
   "outputs": [],
   "source": [
    "data= data.drop(columns=['Marge Fr.', 'Marge %', 'Erlösminderung Angebot Fr.', 'Erlösminderung Ausnahmepreis Fr.', 'Preiskorrektur (PreisTyp) Fr.'])"
   ]
  },
  {
   "cell_type": "code",
   "execution_count": 5,
   "id": "5ea0de5f",
   "metadata": {},
   "outputs": [
    {
     "name": "stdout",
     "output_type": "stream",
     "text": [
      "<class 'pandas.core.frame.DataFrame'>\n",
      "RangeIndex: 19833 entries, 0 to 19832\n",
      "Data columns (total 9 columns):\n",
      " #   Column                      Non-Null Count  Dtype         \n",
      "---  ------                      --------------  -----         \n",
      " 0   Filiale (KST)               19833 non-null  object        \n",
      " 1   Datum                       19833 non-null  datetime64[ns]\n",
      " 2   Produkt                     19833 non-null  object        \n",
      " 3   Abv. Umsatz inkl. MWSt Fr.  19833 non-null  float64       \n",
      " 4   Abv. Umsatz exkl. MWSt Fr.  19833 non-null  float64       \n",
      " 5   Abv. Umsatz Stk./kg         19833 non-null  int64         \n",
      " 6   Abv. Messmenge kg           19833 non-null  float64       \n",
      " 7   Cumuluspunkte Normal        19833 non-null  float64       \n",
      " 8   Cumuluspunkte Zusatz        19833 non-null  float64       \n",
      "dtypes: datetime64[ns](1), float64(5), int64(1), object(2)\n",
      "memory usage: 1.4+ MB\n"
     ]
    }
   ],
   "source": [
    "data.info()"
   ]
  },
  {
   "cell_type": "code",
   "execution_count": 6,
   "id": "5db7587a",
   "metadata": {},
   "outputs": [],
   "source": [
    "data= data.drop(columns=['Cumuluspunkte Normal', 'Cumuluspunkte Zusatz'])"
   ]
  },
  {
   "cell_type": "code",
   "execution_count": 7,
   "id": "68be2aac",
   "metadata": {},
   "outputs": [
    {
     "name": "stdout",
     "output_type": "stream",
     "text": [
      "<class 'pandas.core.frame.DataFrame'>\n",
      "RangeIndex: 19833 entries, 0 to 19832\n",
      "Data columns (total 7 columns):\n",
      " #   Column                      Non-Null Count  Dtype         \n",
      "---  ------                      --------------  -----         \n",
      " 0   Filiale (KST)               19833 non-null  object        \n",
      " 1   Datum                       19833 non-null  datetime64[ns]\n",
      " 2   Produkt                     19833 non-null  object        \n",
      " 3   Abv. Umsatz inkl. MWSt Fr.  19833 non-null  float64       \n",
      " 4   Abv. Umsatz exkl. MWSt Fr.  19833 non-null  float64       \n",
      " 5   Abv. Umsatz Stk./kg         19833 non-null  int64         \n",
      " 6   Abv. Messmenge kg           19833 non-null  float64       \n",
      "dtypes: datetime64[ns](1), float64(3), int64(1), object(2)\n",
      "memory usage: 1.1+ MB\n"
     ]
    }
   ],
   "source": [
    "data.info()"
   ]
  },
  {
   "cell_type": "code",
   "execution_count": 8,
   "id": "472888a7",
   "metadata": {},
   "outputs": [],
   "source": [
    "data= data.rename(columns={'Filiale (KST)':'Sushi Corner', 'Abv. Umsatz inkl. MWSt Fr.':'Bruttoumsatz','Abv. Umsatz exkl. MWSt Fr.':'Nettoumsatz','Abv. Umsatz Stk./kg':'Menge'})"
   ]
  },
  {
   "cell_type": "code",
   "execution_count": 9,
   "id": "c82219c8",
   "metadata": {},
   "outputs": [
    {
     "name": "stdout",
     "output_type": "stream",
     "text": [
      "<class 'pandas.core.frame.DataFrame'>\n",
      "RangeIndex: 19833 entries, 0 to 19832\n",
      "Data columns (total 7 columns):\n",
      " #   Column             Non-Null Count  Dtype         \n",
      "---  ------             --------------  -----         \n",
      " 0   Sushi Corner       19833 non-null  object        \n",
      " 1   Datum              19833 non-null  datetime64[ns]\n",
      " 2   Produkt            19833 non-null  object        \n",
      " 3   Bruttoumsatz       19833 non-null  float64       \n",
      " 4   Nettoumsatz        19833 non-null  float64       \n",
      " 5   Menge              19833 non-null  int64         \n",
      " 6   Abv. Messmenge kg  19833 non-null  float64       \n",
      "dtypes: datetime64[ns](1), float64(3), int64(1), object(2)\n",
      "memory usage: 1.1+ MB\n"
     ]
    }
   ],
   "source": [
    "data.info()"
   ]
  },
  {
   "cell_type": "code",
   "execution_count": 10,
   "id": "29647665",
   "metadata": {},
   "outputs": [
    {
     "data": {
      "text/plain": [
       "array(['Zürich Stadelhofen', 'Zermatt', 'M Märt Shop Ville Zürich HB',\n",
       "       'MM Zürich Airport', 'Basel Airport', 'Druesitz',\n",
       "       'Bubenbergcenter', 'Wettingen Landstrasse', 'Spreitenbach Tivoli',\n",
       "       'Genf Alfortern', 'MM Metalli Zug', 'MMM Surseepark',\n",
       "       'MMM Zugerland Steinhausen', 'Arreyo Centre', 'Glatt Centre',\n",
       "       'MMM Neumarkt', 'MMM Neuwiesen', 'Marktplatzt', 'Mendrisio',\n",
       "       'Taverne', 'Pregassona', 'Riazzino', 'Bellazini', 'Locarno',\n",
       "       'Serfontana', 'San Antonino', 'MM Kreuzplatz', 'MMM Limmatplatz',\n",
       "       'M EX Puls 5', 'M Erlenbach', 'MMM Zürich City', 'MMM Uster',\n",
       "       'MMM Glatt', 'M EX Altstetten', 'Lugano Muzano', 'MR Glatt',\n",
       "       'TA Seedamm Center', 'Schönbühl Shoppyland', 'Thun Oberland',\n",
       "       'Lenzopark', 'Zotelfingen', 'Nyon La Combe', 'Flin Euruno',\n",
       "       'MM Montreux', 'MM Pully', 'MMM Métropole Lausanne',\n",
       "       'MMM Crissier', 'MMM Romanel', 'MMM Chablais Centre',\n",
       "       'Zürich Käferberg', 'Restaurant Hôpital',\n",
       "       'Restaurant Métropole Centre', 'Aini Jana', 'Alpero',\n",
       "       'M EX Stockerstrasse', 'June Park', 'Bazano Luzino',\n",
       "       'Migros Montana', 'Biasca', 'MR Zürich City', 'MR Dietikon',\n",
       "       'Martigny', 'M Malley', 'Hôpital', 'TA Metalli Zug',\n",
       "       'MR Wädenswil', 'TA Bülach Süd', 'MR Oerlikon', 'MR Altstetten',\n",
       "       'MR Bülach'], dtype=object)"
      ]
     },
     "execution_count": 10,
     "metadata": {},
     "output_type": "execute_result"
    }
   ],
   "source": [
    "data['Sushi Corner'].unique()"
   ]
  },
  {
   "cell_type": "code",
   "execution_count": 11,
   "id": "6955e994",
   "metadata": {},
   "outputs": [],
   "source": [
    "data['Sushi Corner']= data['Sushi Corner'].replace(['Zermatt','M Märt Shop Ville Zürich HB'], 'Zürich Langstrasse')"
   ]
  },
  {
   "cell_type": "code",
   "execution_count": 12,
   "id": "333f1d6f",
   "metadata": {},
   "outputs": [
    {
     "data": {
      "text/plain": [
       "array(['Zürich Stadelhofen', 'Zürich Langstrasse', 'MM Zürich Airport',\n",
       "       'Basel Airport', 'Druesitz', 'Bubenbergcenter',\n",
       "       'Wettingen Landstrasse', 'Spreitenbach Tivoli', 'Genf Alfortern',\n",
       "       'MM Metalli Zug', 'MMM Surseepark', 'MMM Zugerland Steinhausen',\n",
       "       'Arreyo Centre', 'Glatt Centre', 'MMM Neumarkt', 'MMM Neuwiesen',\n",
       "       'Marktplatzt', 'Mendrisio', 'Taverne', 'Pregassona', 'Riazzino',\n",
       "       'Bellazini', 'Locarno', 'Serfontana', 'San Antonino',\n",
       "       'MM Kreuzplatz', 'MMM Limmatplatz', 'M EX Puls 5', 'M Erlenbach',\n",
       "       'MMM Zürich City', 'MMM Uster', 'MMM Glatt', 'M EX Altstetten',\n",
       "       'Lugano Muzano', 'MR Glatt', 'TA Seedamm Center',\n",
       "       'Schönbühl Shoppyland', 'Thun Oberland', 'Lenzopark',\n",
       "       'Zotelfingen', 'Nyon La Combe', 'Flin Euruno', 'MM Montreux',\n",
       "       'MM Pully', 'MMM Métropole Lausanne', 'MMM Crissier',\n",
       "       'MMM Romanel', 'MMM Chablais Centre', 'Zürich Käferberg',\n",
       "       'Restaurant Hôpital', 'Restaurant Métropole Centre', 'Aini Jana',\n",
       "       'Alpero', 'M EX Stockerstrasse', 'June Park', 'Bazano Luzino',\n",
       "       'Migros Montana', 'Biasca', 'MR Zürich City', 'MR Dietikon',\n",
       "       'Martigny', 'M Malley', 'Hôpital', 'TA Metalli Zug',\n",
       "       'MR Wädenswil', 'TA Bülach Süd', 'MR Oerlikon', 'MR Altstetten',\n",
       "       'MR Bülach'], dtype=object)"
      ]
     },
     "execution_count": 12,
     "metadata": {},
     "output_type": "execute_result"
    }
   ],
   "source": [
    "data['Sushi Corner'].unique()"
   ]
  },
  {
   "cell_type": "code",
   "execution_count": 13,
   "id": "b8caaed0",
   "metadata": {},
   "outputs": [],
   "source": [
    "data['Sushi Corner']= data['Sushi Corner'].replace(['Wettingen Landstrasse','Spreitenbach Tivoli'],'Oberohrdorf')"
   ]
  },
  {
   "cell_type": "code",
   "execution_count": 14,
   "id": "a7b69b50",
   "metadata": {},
   "outputs": [
    {
     "data": {
      "text/plain": [
       "array(['Zürich Stadelhofen', 'Zürich Langstrasse', 'MM Zürich Airport',\n",
       "       'Basel Airport', 'Druesitz', 'Bubenbergcenter', 'Oberohrdorf',\n",
       "       'Genf Alfortern', 'MM Metalli Zug', 'MMM Surseepark',\n",
       "       'MMM Zugerland Steinhausen', 'Arreyo Centre', 'Glatt Centre',\n",
       "       'MMM Neumarkt', 'MMM Neuwiesen', 'Marktplatzt', 'Mendrisio',\n",
       "       'Taverne', 'Pregassona', 'Riazzino', 'Bellazini', 'Locarno',\n",
       "       'Serfontana', 'San Antonino', 'MM Kreuzplatz', 'MMM Limmatplatz',\n",
       "       'M EX Puls 5', 'M Erlenbach', 'MMM Zürich City', 'MMM Uster',\n",
       "       'MMM Glatt', 'M EX Altstetten', 'Lugano Muzano', 'MR Glatt',\n",
       "       'TA Seedamm Center', 'Schönbühl Shoppyland', 'Thun Oberland',\n",
       "       'Lenzopark', 'Zotelfingen', 'Nyon La Combe', 'Flin Euruno',\n",
       "       'MM Montreux', 'MM Pully', 'MMM Métropole Lausanne',\n",
       "       'MMM Crissier', 'MMM Romanel', 'MMM Chablais Centre',\n",
       "       'Zürich Käferberg', 'Restaurant Hôpital',\n",
       "       'Restaurant Métropole Centre', 'Aini Jana', 'Alpero',\n",
       "       'M EX Stockerstrasse', 'June Park', 'Bazano Luzino',\n",
       "       'Migros Montana', 'Biasca', 'MR Zürich City', 'MR Dietikon',\n",
       "       'Martigny', 'M Malley', 'Hôpital', 'TA Metalli Zug',\n",
       "       'MR Wädenswil', 'TA Bülach Süd', 'MR Oerlikon', 'MR Altstetten',\n",
       "       'MR Bülach'], dtype=object)"
      ]
     },
     "execution_count": 14,
     "metadata": {},
     "output_type": "execute_result"
    }
   ],
   "source": [
    "data['Sushi Corner'].unique()"
   ]
  },
  {
   "cell_type": "code",
   "execution_count": 15,
   "id": "69c7351b",
   "metadata": {},
   "outputs": [],
   "source": [
    "data['Sushi Corner']= data['Sushi Corner'].replace(['MM Metalli Zug','MMM Surseepark','MMM Zugerland Steinhausen'],'Zergerberg')"
   ]
  },
  {
   "cell_type": "code",
   "execution_count": 16,
   "id": "72311b89",
   "metadata": {},
   "outputs": [
    {
     "data": {
      "text/plain": [
       "array(['Zürich Stadelhofen', 'Zürich Langstrasse', 'MM Zürich Airport',\n",
       "       'Basel Airport', 'Druesitz', 'Bubenbergcenter', 'Oberohrdorf',\n",
       "       'Genf Alfortern', 'Zergerberg', 'Arreyo Centre', 'Glatt Centre',\n",
       "       'MMM Neumarkt', 'MMM Neuwiesen', 'Marktplatzt', 'Mendrisio',\n",
       "       'Taverne', 'Pregassona', 'Riazzino', 'Bellazini', 'Locarno',\n",
       "       'Serfontana', 'San Antonino', 'MM Kreuzplatz', 'MMM Limmatplatz',\n",
       "       'M EX Puls 5', 'M Erlenbach', 'MMM Zürich City', 'MMM Uster',\n",
       "       'MMM Glatt', 'M EX Altstetten', 'Lugano Muzano', 'MR Glatt',\n",
       "       'TA Seedamm Center', 'Schönbühl Shoppyland', 'Thun Oberland',\n",
       "       'Lenzopark', 'Zotelfingen', 'Nyon La Combe', 'Flin Euruno',\n",
       "       'MM Montreux', 'MM Pully', 'MMM Métropole Lausanne',\n",
       "       'MMM Crissier', 'MMM Romanel', 'MMM Chablais Centre',\n",
       "       'Zürich Käferberg', 'Restaurant Hôpital',\n",
       "       'Restaurant Métropole Centre', 'Aini Jana', 'Alpero',\n",
       "       'M EX Stockerstrasse', 'June Park', 'Bazano Luzino',\n",
       "       'Migros Montana', 'Biasca', 'MR Zürich City', 'MR Dietikon',\n",
       "       'Martigny', 'M Malley', 'Hôpital', 'TA Metalli Zug',\n",
       "       'MR Wädenswil', 'TA Bülach Süd', 'MR Oerlikon', 'MR Altstetten',\n",
       "       'MR Bülach'], dtype=object)"
      ]
     },
     "execution_count": 16,
     "metadata": {},
     "output_type": "execute_result"
    }
   ],
   "source": [
    "data['Sushi Corner'].unique()"
   ]
  },
  {
   "cell_type": "code",
   "execution_count": 17,
   "id": "ead20e33",
   "metadata": {},
   "outputs": [],
   "source": [
    "data['Sushi Corner']= data['Sushi Corner'].replace(['MMM Neumarkt','MMM Neuwiesen'],'St. Antwil')"
   ]
  },
  {
   "cell_type": "code",
   "execution_count": 18,
   "id": "ed48d1c3",
   "metadata": {},
   "outputs": [
    {
     "data": {
      "text/plain": [
       "array(['Zürich Stadelhofen', 'Zürich Langstrasse', 'MM Zürich Airport',\n",
       "       'Basel Airport', 'Druesitz', 'Bubenbergcenter', 'Oberohrdorf',\n",
       "       'Genf Alfortern', 'Zergerberg', 'Arreyo Centre', 'Glatt Centre',\n",
       "       'St. Antwil', 'Marktplatzt', 'Mendrisio', 'Taverne', 'Pregassona',\n",
       "       'Riazzino', 'Bellazini', 'Locarno', 'Serfontana', 'San Antonino',\n",
       "       'MM Kreuzplatz', 'MMM Limmatplatz', 'M EX Puls 5', 'M Erlenbach',\n",
       "       'MMM Zürich City', 'MMM Uster', 'MMM Glatt', 'M EX Altstetten',\n",
       "       'Lugano Muzano', 'MR Glatt', 'TA Seedamm Center',\n",
       "       'Schönbühl Shoppyland', 'Thun Oberland', 'Lenzopark',\n",
       "       'Zotelfingen', 'Nyon La Combe', 'Flin Euruno', 'MM Montreux',\n",
       "       'MM Pully', 'MMM Métropole Lausanne', 'MMM Crissier',\n",
       "       'MMM Romanel', 'MMM Chablais Centre', 'Zürich Käferberg',\n",
       "       'Restaurant Hôpital', 'Restaurant Métropole Centre', 'Aini Jana',\n",
       "       'Alpero', 'M EX Stockerstrasse', 'June Park', 'Bazano Luzino',\n",
       "       'Migros Montana', 'Biasca', 'MR Zürich City', 'MR Dietikon',\n",
       "       'Martigny', 'M Malley', 'Hôpital', 'TA Metalli Zug',\n",
       "       'MR Wädenswil', 'TA Bülach Süd', 'MR Oerlikon', 'MR Altstetten',\n",
       "       'MR Bülach'], dtype=object)"
      ]
     },
     "execution_count": 18,
     "metadata": {},
     "output_type": "execute_result"
    }
   ],
   "source": [
    "data['Sushi Corner'].unique()"
   ]
  },
  {
   "cell_type": "code",
   "execution_count": 19,
   "id": "11e7a9fe",
   "metadata": {},
   "outputs": [],
   "source": [
    "data['Sushi Corner']= data['Sushi Corner'].replace(['Locarno','Serfontana','Pregassona','Riazzino'],'Grotto Pescatori')"
   ]
  },
  {
   "cell_type": "code",
   "execution_count": 20,
   "id": "b8a88e64",
   "metadata": {},
   "outputs": [
    {
     "data": {
      "text/plain": [
       "array(['Zürich Stadelhofen', 'Zürich Langstrasse', 'MM Zürich Airport',\n",
       "       'Basel Airport', 'Druesitz', 'Bubenbergcenter', 'Oberohrdorf',\n",
       "       'Genf Alfortern', 'Zergerberg', 'Arreyo Centre', 'Glatt Centre',\n",
       "       'St. Antwil', 'Marktplatzt', 'Mendrisio', 'Taverne',\n",
       "       'Grotto Pescatori', 'Bellazini', 'San Antonino', 'MM Kreuzplatz',\n",
       "       'MMM Limmatplatz', 'M EX Puls 5', 'M Erlenbach', 'MMM Zürich City',\n",
       "       'MMM Uster', 'MMM Glatt', 'M EX Altstetten', 'Lugano Muzano',\n",
       "       'MR Glatt', 'TA Seedamm Center', 'Schönbühl Shoppyland',\n",
       "       'Thun Oberland', 'Lenzopark', 'Zotelfingen', 'Nyon La Combe',\n",
       "       'Flin Euruno', 'MM Montreux', 'MM Pully', 'MMM Métropole Lausanne',\n",
       "       'MMM Crissier', 'MMM Romanel', 'MMM Chablais Centre',\n",
       "       'Zürich Käferberg', 'Restaurant Hôpital',\n",
       "       'Restaurant Métropole Centre', 'Aini Jana', 'Alpero',\n",
       "       'M EX Stockerstrasse', 'June Park', 'Bazano Luzino',\n",
       "       'Migros Montana', 'Biasca', 'MR Zürich City', 'MR Dietikon',\n",
       "       'Martigny', 'M Malley', 'Hôpital', 'TA Metalli Zug',\n",
       "       'MR Wädenswil', 'TA Bülach Süd', 'MR Oerlikon', 'MR Altstetten',\n",
       "       'MR Bülach'], dtype=object)"
      ]
     },
     "execution_count": 20,
     "metadata": {},
     "output_type": "execute_result"
    }
   ],
   "source": [
    "data['Sushi Corner'].unique()"
   ]
  },
  {
   "cell_type": "code",
   "execution_count": 21,
   "id": "5dcacc88",
   "metadata": {},
   "outputs": [],
   "source": [
    "data['Sushi Corner']= data['Sushi Corner'].replace(['MM Kreuzplatz','MMM Limmatplat','M EX Puls 5','M Erlenbach'],'Zürich Wallisellen')"
   ]
  },
  {
   "cell_type": "code",
   "execution_count": 22,
   "id": "7a909232",
   "metadata": {},
   "outputs": [
    {
     "data": {
      "text/plain": [
       "array(['Zürich Stadelhofen', 'Zürich Langstrasse', 'MM Zürich Airport',\n",
       "       'Basel Airport', 'Druesitz', 'Bubenbergcenter', 'Oberohrdorf',\n",
       "       'Genf Alfortern', 'Zergerberg', 'Arreyo Centre', 'Glatt Centre',\n",
       "       'St. Antwil', 'Marktplatzt', 'Mendrisio', 'Taverne',\n",
       "       'Grotto Pescatori', 'Bellazini', 'San Antonino',\n",
       "       'Zürich Wallisellen', 'MMM Limmatplatz', 'MMM Zürich City',\n",
       "       'MMM Uster', 'MMM Glatt', 'M EX Altstetten', 'Lugano Muzano',\n",
       "       'MR Glatt', 'TA Seedamm Center', 'Schönbühl Shoppyland',\n",
       "       'Thun Oberland', 'Lenzopark', 'Zotelfingen', 'Nyon La Combe',\n",
       "       'Flin Euruno', 'MM Montreux', 'MM Pully', 'MMM Métropole Lausanne',\n",
       "       'MMM Crissier', 'MMM Romanel', 'MMM Chablais Centre',\n",
       "       'Zürich Käferberg', 'Restaurant Hôpital',\n",
       "       'Restaurant Métropole Centre', 'Aini Jana', 'Alpero',\n",
       "       'M EX Stockerstrasse', 'June Park', 'Bazano Luzino',\n",
       "       'Migros Montana', 'Biasca', 'MR Zürich City', 'MR Dietikon',\n",
       "       'Martigny', 'M Malley', 'Hôpital', 'TA Metalli Zug',\n",
       "       'MR Wädenswil', 'TA Bülach Süd', 'MR Oerlikon', 'MR Altstetten',\n",
       "       'MR Bülach'], dtype=object)"
      ]
     },
     "execution_count": 22,
     "metadata": {},
     "output_type": "execute_result"
    }
   ],
   "source": [
    "data['Sushi Corner'].unique()"
   ]
  },
  {
   "cell_type": "code",
   "execution_count": 23,
   "id": "f6a91b9b",
   "metadata": {},
   "outputs": [],
   "source": [
    "data['Sushi Corner']= data['Sushi Corner'].replace(['MMM Limmatplatz','MMM Zürich City','MR Zürich City','MR Dietikon'],'Zürich Altstetten')"
   ]
  },
  {
   "cell_type": "code",
   "execution_count": 24,
   "id": "ee4cd95e",
   "metadata": {},
   "outputs": [
    {
     "data": {
      "text/plain": [
       "array(['Zürich Stadelhofen', 'Zürich Langstrasse', 'MM Zürich Airport',\n",
       "       'Basel Airport', 'Druesitz', 'Bubenbergcenter', 'Oberohrdorf',\n",
       "       'Genf Alfortern', 'Zergerberg', 'Arreyo Centre', 'Glatt Centre',\n",
       "       'St. Antwil', 'Marktplatzt', 'Mendrisio', 'Taverne',\n",
       "       'Grotto Pescatori', 'Bellazini', 'San Antonino',\n",
       "       'Zürich Wallisellen', 'Zürich Altstetten', 'MMM Uster',\n",
       "       'MMM Glatt', 'M EX Altstetten', 'Lugano Muzano', 'MR Glatt',\n",
       "       'TA Seedamm Center', 'Schönbühl Shoppyland', 'Thun Oberland',\n",
       "       'Lenzopark', 'Zotelfingen', 'Nyon La Combe', 'Flin Euruno',\n",
       "       'MM Montreux', 'MM Pully', 'MMM Métropole Lausanne',\n",
       "       'MMM Crissier', 'MMM Romanel', 'MMM Chablais Centre',\n",
       "       'Zürich Käferberg', 'Restaurant Hôpital',\n",
       "       'Restaurant Métropole Centre', 'Aini Jana', 'Alpero',\n",
       "       'M EX Stockerstrasse', 'June Park', 'Bazano Luzino',\n",
       "       'Migros Montana', 'Biasca', 'Martigny', 'M Malley', 'Hôpital',\n",
       "       'TA Metalli Zug', 'MR Wädenswil', 'TA Bülach Süd', 'MR Oerlikon',\n",
       "       'MR Altstetten', 'MR Bülach'], dtype=object)"
      ]
     },
     "execution_count": 24,
     "metadata": {},
     "output_type": "execute_result"
    }
   ],
   "source": [
    "data['Sushi Corner'].unique()"
   ]
  },
  {
   "cell_type": "code",
   "execution_count": 25,
   "id": "44d47ba5",
   "metadata": {},
   "outputs": [],
   "source": [
    "data['Sushi Corner']= data['Sushi Corner'].replace(['MM Montreux','MM Pully','MMM Métropole Lausanne'],'Savigny')"
   ]
  },
  {
   "cell_type": "code",
   "execution_count": 26,
   "id": "82fe481c",
   "metadata": {},
   "outputs": [
    {
     "data": {
      "text/plain": [
       "array(['Zürich Stadelhofen', 'Zürich Langstrasse', 'MM Zürich Airport',\n",
       "       'Basel Airport', 'Druesitz', 'Bubenbergcenter', 'Oberohrdorf',\n",
       "       'Genf Alfortern', 'Zergerberg', 'Arreyo Centre', 'Glatt Centre',\n",
       "       'St. Antwil', 'Marktplatzt', 'Mendrisio', 'Taverne',\n",
       "       'Grotto Pescatori', 'Bellazini', 'San Antonino',\n",
       "       'Zürich Wallisellen', 'Zürich Altstetten', 'MMM Uster',\n",
       "       'MMM Glatt', 'M EX Altstetten', 'Lugano Muzano', 'MR Glatt',\n",
       "       'TA Seedamm Center', 'Schönbühl Shoppyland', 'Thun Oberland',\n",
       "       'Lenzopark', 'Zotelfingen', 'Nyon La Combe', 'Flin Euruno',\n",
       "       'Savigny', 'MMM Crissier', 'MMM Romanel', 'MMM Chablais Centre',\n",
       "       'Zürich Käferberg', 'Restaurant Hôpital',\n",
       "       'Restaurant Métropole Centre', 'Aini Jana', 'Alpero',\n",
       "       'M EX Stockerstrasse', 'June Park', 'Bazano Luzino',\n",
       "       'Migros Montana', 'Biasca', 'Martigny', 'M Malley', 'Hôpital',\n",
       "       'TA Metalli Zug', 'MR Wädenswil', 'TA Bülach Süd', 'MR Oerlikon',\n",
       "       'MR Altstetten', 'MR Bülach'], dtype=object)"
      ]
     },
     "execution_count": 26,
     "metadata": {},
     "output_type": "execute_result"
    }
   ],
   "source": [
    "data['Sushi Corner'].unique()"
   ]
  },
  {
   "cell_type": "code",
   "execution_count": 27,
   "id": "91b62876",
   "metadata": {},
   "outputs": [],
   "source": [
    "data['Sushi Corner']= data['Sushi Corner'].replace(['MMM Uster','MMM Glatt','M EX Altstetten'],'Usterstrasse')"
   ]
  },
  {
   "cell_type": "code",
   "execution_count": 28,
   "id": "a806c2bf",
   "metadata": {},
   "outputs": [
    {
     "data": {
      "text/plain": [
       "array(['Zürich Stadelhofen', 'Zürich Langstrasse', 'MM Zürich Airport',\n",
       "       'Basel Airport', 'Druesitz', 'Bubenbergcenter', 'Oberohrdorf',\n",
       "       'Genf Alfortern', 'Zergerberg', 'Arreyo Centre', 'Glatt Centre',\n",
       "       'St. Antwil', 'Marktplatzt', 'Mendrisio', 'Taverne',\n",
       "       'Grotto Pescatori', 'Bellazini', 'San Antonino',\n",
       "       'Zürich Wallisellen', 'Zürich Altstetten', 'Usterstrasse',\n",
       "       'Lugano Muzano', 'MR Glatt', 'TA Seedamm Center',\n",
       "       'Schönbühl Shoppyland', 'Thun Oberland', 'Lenzopark',\n",
       "       'Zotelfingen', 'Nyon La Combe', 'Flin Euruno', 'Savigny',\n",
       "       'MMM Crissier', 'MMM Romanel', 'MMM Chablais Centre',\n",
       "       'Zürich Käferberg', 'Restaurant Hôpital',\n",
       "       'Restaurant Métropole Centre', 'Aini Jana', 'Alpero',\n",
       "       'M EX Stockerstrasse', 'June Park', 'Bazano Luzino',\n",
       "       'Migros Montana', 'Biasca', 'Martigny', 'M Malley', 'Hôpital',\n",
       "       'TA Metalli Zug', 'MR Wädenswil', 'TA Bülach Süd', 'MR Oerlikon',\n",
       "       'MR Altstetten', 'MR Bülach'], dtype=object)"
      ]
     },
     "execution_count": 28,
     "metadata": {},
     "output_type": "execute_result"
    }
   ],
   "source": [
    "data['Sushi Corner'].unique()"
   ]
  },
  {
   "cell_type": "code",
   "execution_count": 29,
   "id": "4f956f77",
   "metadata": {},
   "outputs": [],
   "source": [
    "data['Sushi Corner']= data['Sushi Corner'].replace(['MR Glatt','TA Seedamm Center','M EX Stockerstrasse'],'Uri Gotthardstrasse')"
   ]
  },
  {
   "cell_type": "code",
   "execution_count": 30,
   "id": "b8e498c3",
   "metadata": {},
   "outputs": [
    {
     "data": {
      "text/plain": [
       "array(['Zürich Stadelhofen', 'Zürich Langstrasse', 'MM Zürich Airport',\n",
       "       'Basel Airport', 'Druesitz', 'Bubenbergcenter', 'Oberohrdorf',\n",
       "       'Genf Alfortern', 'Zergerberg', 'Arreyo Centre', 'Glatt Centre',\n",
       "       'St. Antwil', 'Marktplatzt', 'Mendrisio', 'Taverne',\n",
       "       'Grotto Pescatori', 'Bellazini', 'San Antonino',\n",
       "       'Zürich Wallisellen', 'Zürich Altstetten', 'Usterstrasse',\n",
       "       'Lugano Muzano', 'Uri Gotthardstrasse', 'Schönbühl Shoppyland',\n",
       "       'Thun Oberland', 'Lenzopark', 'Zotelfingen', 'Nyon La Combe',\n",
       "       'Flin Euruno', 'Savigny', 'MMM Crissier', 'MMM Romanel',\n",
       "       'MMM Chablais Centre', 'Zürich Käferberg', 'Restaurant Hôpital',\n",
       "       'Restaurant Métropole Centre', 'Aini Jana', 'Alpero', 'June Park',\n",
       "       'Bazano Luzino', 'Migros Montana', 'Biasca', 'Martigny',\n",
       "       'M Malley', 'Hôpital', 'TA Metalli Zug', 'MR Wädenswil',\n",
       "       'TA Bülach Süd', 'MR Oerlikon', 'MR Altstetten', 'MR Bülach'],\n",
       "      dtype=object)"
      ]
     },
     "execution_count": 30,
     "metadata": {},
     "output_type": "execute_result"
    }
   ],
   "source": [
    "data['Sushi Corner'].unique()"
   ]
  },
  {
   "cell_type": "code",
   "execution_count": 31,
   "id": "fceba82c",
   "metadata": {},
   "outputs": [],
   "source": [
    "data['Sushi Corner']= data['Sushi Corner'].replace(['Schönbühl Shoppyland','Thun Oberland','MR Bülach'],'Bern Stettlen')"
   ]
  },
  {
   "cell_type": "code",
   "execution_count": 32,
   "id": "93a75648",
   "metadata": {},
   "outputs": [
    {
     "data": {
      "text/plain": [
       "array(['Zürich Stadelhofen', 'Zürich Langstrasse', 'MM Zürich Airport',\n",
       "       'Basel Airport', 'Druesitz', 'Bubenbergcenter', 'Oberohrdorf',\n",
       "       'Genf Alfortern', 'Zergerberg', 'Arreyo Centre', 'Glatt Centre',\n",
       "       'St. Antwil', 'Marktplatzt', 'Mendrisio', 'Taverne',\n",
       "       'Grotto Pescatori', 'Bellazini', 'San Antonino',\n",
       "       'Zürich Wallisellen', 'Zürich Altstetten', 'Usterstrasse',\n",
       "       'Lugano Muzano', 'Uri Gotthardstrasse', 'Bern Stettlen',\n",
       "       'Lenzopark', 'Zotelfingen', 'Nyon La Combe', 'Flin Euruno',\n",
       "       'Savigny', 'MMM Crissier', 'MMM Romanel', 'MMM Chablais Centre',\n",
       "       'Zürich Käferberg', 'Restaurant Hôpital',\n",
       "       'Restaurant Métropole Centre', 'Aini Jana', 'Alpero', 'June Park',\n",
       "       'Bazano Luzino', 'Migros Montana', 'Biasca', 'Martigny',\n",
       "       'M Malley', 'Hôpital', 'TA Metalli Zug', 'MR Wädenswil',\n",
       "       'TA Bülach Süd', 'MR Oerlikon', 'MR Altstetten'], dtype=object)"
      ]
     },
     "execution_count": 32,
     "metadata": {},
     "output_type": "execute_result"
    }
   ],
   "source": [
    "data['Sushi Corner'].unique()"
   ]
  },
  {
   "cell_type": "code",
   "execution_count": 33,
   "id": "b7cb89a3",
   "metadata": {},
   "outputs": [],
   "source": [
    "data['Sushi Corner']= data['Sushi Corner'].replace(['Nyon La Combe','MMM Crissier','MMM Romanel'],'Breinau')"
   ]
  },
  {
   "cell_type": "code",
   "execution_count": 34,
   "id": "b7d19371",
   "metadata": {},
   "outputs": [
    {
     "data": {
      "text/plain": [
       "array(['Zürich Stadelhofen', 'Zürich Langstrasse', 'MM Zürich Airport',\n",
       "       'Basel Airport', 'Druesitz', 'Bubenbergcenter', 'Oberohrdorf',\n",
       "       'Genf Alfortern', 'Zergerberg', 'Arreyo Centre', 'Glatt Centre',\n",
       "       'St. Antwil', 'Marktplatzt', 'Mendrisio', 'Taverne',\n",
       "       'Grotto Pescatori', 'Bellazini', 'San Antonino',\n",
       "       'Zürich Wallisellen', 'Zürich Altstetten', 'Usterstrasse',\n",
       "       'Lugano Muzano', 'Uri Gotthardstrasse', 'Bern Stettlen',\n",
       "       'Lenzopark', 'Zotelfingen', 'Breinau', 'Flin Euruno', 'Savigny',\n",
       "       'MMM Chablais Centre', 'Zürich Käferberg', 'Restaurant Hôpital',\n",
       "       'Restaurant Métropole Centre', 'Aini Jana', 'Alpero', 'June Park',\n",
       "       'Bazano Luzino', 'Migros Montana', 'Biasca', 'Martigny',\n",
       "       'M Malley', 'Hôpital', 'TA Metalli Zug', 'MR Wädenswil',\n",
       "       'TA Bülach Süd', 'MR Oerlikon', 'MR Altstetten'], dtype=object)"
      ]
     },
     "execution_count": 34,
     "metadata": {},
     "output_type": "execute_result"
    }
   ],
   "source": [
    "data['Sushi Corner'].unique()"
   ]
  },
  {
   "cell_type": "code",
   "execution_count": 35,
   "id": "57c3c213",
   "metadata": {},
   "outputs": [],
   "source": [
    "data['Sushi Corner']= data['Sushi Corner'].replace(['MMM Chablais Centre','Restaurant Hôpital','Restaurant Métropole Centre'],'Menrro Centre')"
   ]
  },
  {
   "cell_type": "code",
   "execution_count": 36,
   "id": "610ac739",
   "metadata": {},
   "outputs": [
    {
     "data": {
      "text/plain": [
       "array(['Zürich Stadelhofen', 'Zürich Langstrasse', 'MM Zürich Airport',\n",
       "       'Basel Airport', 'Druesitz', 'Bubenbergcenter', 'Oberohrdorf',\n",
       "       'Genf Alfortern', 'Zergerberg', 'Arreyo Centre', 'Glatt Centre',\n",
       "       'St. Antwil', 'Marktplatzt', 'Mendrisio', 'Taverne',\n",
       "       'Grotto Pescatori', 'Bellazini', 'San Antonino',\n",
       "       'Zürich Wallisellen', 'Zürich Altstetten', 'Usterstrasse',\n",
       "       'Lugano Muzano', 'Uri Gotthardstrasse', 'Bern Stettlen',\n",
       "       'Lenzopark', 'Zotelfingen', 'Breinau', 'Flin Euruno', 'Savigny',\n",
       "       'Menrro Centre', 'Zürich Käferberg', 'Aini Jana', 'Alpero',\n",
       "       'June Park', 'Bazano Luzino', 'Migros Montana', 'Biasca',\n",
       "       'Martigny', 'M Malley', 'Hôpital', 'TA Metalli Zug',\n",
       "       'MR Wädenswil', 'TA Bülach Süd', 'MR Oerlikon', 'MR Altstetten'],\n",
       "      dtype=object)"
      ]
     },
     "execution_count": 36,
     "metadata": {},
     "output_type": "execute_result"
    }
   ],
   "source": [
    "data['Sushi Corner'].unique()"
   ]
  },
  {
   "cell_type": "code",
   "execution_count": 37,
   "id": "409ef5bb",
   "metadata": {},
   "outputs": [],
   "source": [
    "data['Sushi Corner']= data['Sushi Corner'].replace(['M Malley','TA Metalli Zug'],'Metalley')"
   ]
  },
  {
   "cell_type": "code",
   "execution_count": 38,
   "id": "c736042a",
   "metadata": {},
   "outputs": [
    {
     "data": {
      "text/plain": [
       "array(['Zürich Stadelhofen', 'Zürich Langstrasse', 'MM Zürich Airport',\n",
       "       'Basel Airport', 'Druesitz', 'Bubenbergcenter', 'Oberohrdorf',\n",
       "       'Genf Alfortern', 'Zergerberg', 'Arreyo Centre', 'Glatt Centre',\n",
       "       'St. Antwil', 'Marktplatzt', 'Mendrisio', 'Taverne',\n",
       "       'Grotto Pescatori', 'Bellazini', 'San Antonino',\n",
       "       'Zürich Wallisellen', 'Zürich Altstetten', 'Usterstrasse',\n",
       "       'Lugano Muzano', 'Uri Gotthardstrasse', 'Bern Stettlen',\n",
       "       'Lenzopark', 'Zotelfingen', 'Breinau', 'Flin Euruno', 'Savigny',\n",
       "       'Menrro Centre', 'Zürich Käferberg', 'Aini Jana', 'Alpero',\n",
       "       'June Park', 'Bazano Luzino', 'Migros Montana', 'Biasca',\n",
       "       'Martigny', 'Metalley', 'Hôpital', 'MR Wädenswil', 'TA Bülach Süd',\n",
       "       'MR Oerlikon', 'MR Altstetten'], dtype=object)"
      ]
     },
     "execution_count": 38,
     "metadata": {},
     "output_type": "execute_result"
    }
   ],
   "source": [
    "data['Sushi Corner'].unique()"
   ]
  },
  {
   "cell_type": "code",
   "execution_count": 39,
   "id": "a07942db",
   "metadata": {},
   "outputs": [],
   "source": [
    "data['Sushi Corner']= data['Sushi Corner'].replace(['Migros Montana'],'Montana')"
   ]
  },
  {
   "cell_type": "code",
   "execution_count": 40,
   "id": "11de19c2",
   "metadata": {},
   "outputs": [
    {
     "data": {
      "text/plain": [
       "array(['Zürich Stadelhofen', 'Zürich Langstrasse', 'MM Zürich Airport',\n",
       "       'Basel Airport', 'Druesitz', 'Bubenbergcenter', 'Oberohrdorf',\n",
       "       'Genf Alfortern', 'Zergerberg', 'Arreyo Centre', 'Glatt Centre',\n",
       "       'St. Antwil', 'Marktplatzt', 'Mendrisio', 'Taverne',\n",
       "       'Grotto Pescatori', 'Bellazini', 'San Antonino',\n",
       "       'Zürich Wallisellen', 'Zürich Altstetten', 'Usterstrasse',\n",
       "       'Lugano Muzano', 'Uri Gotthardstrasse', 'Bern Stettlen',\n",
       "       'Lenzopark', 'Zotelfingen', 'Breinau', 'Flin Euruno', 'Savigny',\n",
       "       'Menrro Centre', 'Zürich Käferberg', 'Aini Jana', 'Alpero',\n",
       "       'June Park', 'Bazano Luzino', 'Montana', 'Biasca', 'Martigny',\n",
       "       'Metalley', 'Hôpital', 'MR Wädenswil', 'TA Bülach Süd',\n",
       "       'MR Oerlikon', 'MR Altstetten'], dtype=object)"
      ]
     },
     "execution_count": 40,
     "metadata": {},
     "output_type": "execute_result"
    }
   ],
   "source": [
    "data['Sushi Corner'].unique()"
   ]
  },
  {
   "cell_type": "code",
   "execution_count": 41,
   "id": "4f956286",
   "metadata": {},
   "outputs": [],
   "source": [
    "data['Sushi Corner']= data['Sushi Corner'].replace(['MR Oerlikon'],'Oerlikon')"
   ]
  },
  {
   "cell_type": "code",
   "execution_count": 42,
   "id": "4594a733",
   "metadata": {},
   "outputs": [
    {
     "data": {
      "text/plain": [
       "array(['Zürich Stadelhofen', 'Zürich Langstrasse', 'MM Zürich Airport',\n",
       "       'Basel Airport', 'Druesitz', 'Bubenbergcenter', 'Oberohrdorf',\n",
       "       'Genf Alfortern', 'Zergerberg', 'Arreyo Centre', 'Glatt Centre',\n",
       "       'St. Antwil', 'Marktplatzt', 'Mendrisio', 'Taverne',\n",
       "       'Grotto Pescatori', 'Bellazini', 'San Antonino',\n",
       "       'Zürich Wallisellen', 'Zürich Altstetten', 'Usterstrasse',\n",
       "       'Lugano Muzano', 'Uri Gotthardstrasse', 'Bern Stettlen',\n",
       "       'Lenzopark', 'Zotelfingen', 'Breinau', 'Flin Euruno', 'Savigny',\n",
       "       'Menrro Centre', 'Zürich Käferberg', 'Aini Jana', 'Alpero',\n",
       "       'June Park', 'Bazano Luzino', 'Montana', 'Biasca', 'Martigny',\n",
       "       'Metalley', 'Hôpital', 'MR Wädenswil', 'TA Bülach Süd', 'Oerlikon',\n",
       "       'MR Altstetten'], dtype=object)"
      ]
     },
     "execution_count": 42,
     "metadata": {},
     "output_type": "execute_result"
    }
   ],
   "source": [
    "data['Sushi Corner'].unique()"
   ]
  },
  {
   "cell_type": "code",
   "execution_count": 43,
   "id": "06681fee",
   "metadata": {},
   "outputs": [],
   "source": [
    "data['Sushi Corner']= data['Sushi Corner'].replace(['MR Wädenswil'],'Wadeswil')"
   ]
  },
  {
   "cell_type": "code",
   "execution_count": 44,
   "id": "f24eea57",
   "metadata": {},
   "outputs": [
    {
     "data": {
      "text/plain": [
       "array(['Zürich Stadelhofen', 'Zürich Langstrasse', 'MM Zürich Airport',\n",
       "       'Basel Airport', 'Druesitz', 'Bubenbergcenter', 'Oberohrdorf',\n",
       "       'Genf Alfortern', 'Zergerberg', 'Arreyo Centre', 'Glatt Centre',\n",
       "       'St. Antwil', 'Marktplatzt', 'Mendrisio', 'Taverne',\n",
       "       'Grotto Pescatori', 'Bellazini', 'San Antonino',\n",
       "       'Zürich Wallisellen', 'Zürich Altstetten', 'Usterstrasse',\n",
       "       'Lugano Muzano', 'Uri Gotthardstrasse', 'Bern Stettlen',\n",
       "       'Lenzopark', 'Zotelfingen', 'Breinau', 'Flin Euruno', 'Savigny',\n",
       "       'Menrro Centre', 'Zürich Käferberg', 'Aini Jana', 'Alpero',\n",
       "       'June Park', 'Bazano Luzino', 'Montana', 'Biasca', 'Martigny',\n",
       "       'Metalley', 'Hôpital', 'Wadeswil', 'TA Bülach Süd', 'Oerlikon',\n",
       "       'MR Altstetten'], dtype=object)"
      ]
     },
     "execution_count": 44,
     "metadata": {},
     "output_type": "execute_result"
    }
   ],
   "source": [
    "data['Sushi Corner'].unique()"
   ]
  },
  {
   "cell_type": "code",
   "execution_count": 45,
   "id": "c31becf1",
   "metadata": {},
   "outputs": [],
   "source": [
    "data['Sushi Corner']= data['Sushi Corner'].replace(['MM Zürich Airport'],'Zürich Flughafen')"
   ]
  },
  {
   "cell_type": "code",
   "execution_count": 46,
   "id": "a350404a",
   "metadata": {},
   "outputs": [
    {
     "data": {
      "text/plain": [
       "array(['Zürich Stadelhofen', 'Zürich Langstrasse', 'Zürich Flughafen',\n",
       "       'Basel Airport', 'Druesitz', 'Bubenbergcenter', 'Oberohrdorf',\n",
       "       'Genf Alfortern', 'Zergerberg', 'Arreyo Centre', 'Glatt Centre',\n",
       "       'St. Antwil', 'Marktplatzt', 'Mendrisio', 'Taverne',\n",
       "       'Grotto Pescatori', 'Bellazini', 'San Antonino',\n",
       "       'Zürich Wallisellen', 'Zürich Altstetten', 'Usterstrasse',\n",
       "       'Lugano Muzano', 'Uri Gotthardstrasse', 'Bern Stettlen',\n",
       "       'Lenzopark', 'Zotelfingen', 'Breinau', 'Flin Euruno', 'Savigny',\n",
       "       'Menrro Centre', 'Zürich Käferberg', 'Aini Jana', 'Alpero',\n",
       "       'June Park', 'Bazano Luzino', 'Montana', 'Biasca', 'Martigny',\n",
       "       'Metalley', 'Hôpital', 'Wadeswil', 'TA Bülach Süd', 'Oerlikon',\n",
       "       'MR Altstetten'], dtype=object)"
      ]
     },
     "execution_count": 46,
     "metadata": {},
     "output_type": "execute_result"
    }
   ],
   "source": [
    "data['Sushi Corner'].unique()"
   ]
  },
  {
   "cell_type": "code",
   "execution_count": 47,
   "id": "a46548c0",
   "metadata": {},
   "outputs": [],
   "source": [
    "data['Sushi Corner']= data['Sushi Corner'].replace(['MR Altstetten'],'Zürich Altstetten')"
   ]
  },
  {
   "cell_type": "code",
   "execution_count": 48,
   "id": "2efa9481",
   "metadata": {},
   "outputs": [
    {
     "data": {
      "text/plain": [
       "43"
      ]
     },
     "execution_count": 48,
     "metadata": {},
     "output_type": "execute_result"
    }
   ],
   "source": [
    "data['Sushi Corner'].nunique()"
   ]
  },
  {
   "cell_type": "code",
   "execution_count": 49,
   "id": "761b71f7",
   "metadata": {},
   "outputs": [],
   "source": [
    "data.to_excel(r\"C:\\Users\\trinh.ngo\\OneDrive - Terasys-Network\\Dokumente\\Sushi Mania\\Verkauf Bericht Power BI\\Sushi Daten_Output.xlsx\", index= False)"
   ]
  },
  {
   "cell_type": "code",
   "execution_count": 50,
   "id": "1d193c2e",
   "metadata": {},
   "outputs": [
    {
     "name": "stdout",
     "output_type": "stream",
     "text": [
      "<class 'pandas.core.frame.DataFrame'>\n",
      "RangeIndex: 19833 entries, 0 to 19832\n",
      "Data columns (total 7 columns):\n",
      " #   Column             Non-Null Count  Dtype         \n",
      "---  ------             --------------  -----         \n",
      " 0   Sushi Corner       19833 non-null  object        \n",
      " 1   Datum              19833 non-null  datetime64[ns]\n",
      " 2   Produkt            19833 non-null  object        \n",
      " 3   Bruttoumsatz       19833 non-null  float64       \n",
      " 4   Nettoumsatz        19833 non-null  float64       \n",
      " 5   Menge              19833 non-null  int64         \n",
      " 6   Abv. Messmenge kg  19833 non-null  float64       \n",
      "dtypes: datetime64[ns](1), float64(3), int64(1), object(2)\n",
      "memory usage: 1.1+ MB\n"
     ]
    }
   ],
   "source": [
    "data.info()"
   ]
  },
  {
   "cell_type": "code",
   "execution_count": 67,
   "id": "0a0d9284",
   "metadata": {},
   "outputs": [
    {
     "data": {
      "text/plain": [
       "88"
      ]
     },
     "execution_count": 67,
     "metadata": {},
     "output_type": "execute_result"
    }
   ],
   "source": [
    "data.Produkt.nunique()"
   ]
  },
  {
   "cell_type": "code",
   "execution_count": null,
   "id": "5f6e2f14",
   "metadata": {},
   "outputs": [],
   "source": []
  }
 ],
 "metadata": {
  "kernelspec": {
   "display_name": "Python 3 (ipykernel)",
   "language": "python",
   "name": "python3"
  },
  "language_info": {
   "codemirror_mode": {
    "name": "ipython",
    "version": 3
   },
   "file_extension": ".py",
   "mimetype": "text/x-python",
   "name": "python",
   "nbconvert_exporter": "python",
   "pygments_lexer": "ipython3",
   "version": "3.9.13"
  }
 },
 "nbformat": 4,
 "nbformat_minor": 5
}
