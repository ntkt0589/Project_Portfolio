{
 "cells": [
  {
   "cell_type": "code",
   "execution_count": 38,
   "id": "7e41184e",
   "metadata": {
    "scrolled": true
   },
   "outputs": [
    {
     "name": "stdout",
     "output_type": "stream",
     "text": [
      "<class 'pandas.core.frame.DataFrame'>\n",
      "RangeIndex: 19833 entries, 0 to 19832\n",
      "Data columns (total 7 columns):\n",
      " #   Column             Non-Null Count  Dtype         \n",
      "---  ------             --------------  -----         \n",
      " 0   Sushi Corner       19833 non-null  object        \n",
      " 1   Datum              19833 non-null  datetime64[ns]\n",
      " 2   Produkt            19833 non-null  object        \n",
      " 3   Bruttoumsatz       19833 non-null  float64       \n",
      " 4   Nettoumsatz        19833 non-null  float64       \n",
      " 5   Menge              19833 non-null  int64         \n",
      " 6   Abv. Messmenge kg  19833 non-null  float64       \n",
      "dtypes: datetime64[ns](1), float64(3), int64(1), object(2)\n",
      "memory usage: 1.1+ MB\n"
     ]
    }
   ],
   "source": [
    "import pandas as pd\n",
    "data= pd.read_excel(r\"C:\\Users\\trinh.ngo\\OneDrive - Terasys-Network\\Dokumente\\Sushi Mania\\Verkauf Bericht Power BI\\Sushi Daten.xlsx\")\n",
    "data.info()"
   ]
  },
  {
   "cell_type": "code",
   "execution_count": 39,
   "id": "799ba8a3",
   "metadata": {},
   "outputs": [
    {
     "data": {
      "text/html": [
       "<div>\n",
       "<style scoped>\n",
       "    .dataframe tbody tr th:only-of-type {\n",
       "        vertical-align: middle;\n",
       "    }\n",
       "\n",
       "    .dataframe tbody tr th {\n",
       "        vertical-align: top;\n",
       "    }\n",
       "\n",
       "    .dataframe thead th {\n",
       "        text-align: right;\n",
       "    }\n",
       "</style>\n",
       "<table border=\"1\" class=\"dataframe\">\n",
       "  <thead>\n",
       "    <tr style=\"text-align: right;\">\n",
       "      <th></th>\n",
       "      <th></th>\n",
       "      <th>Sushi Corner</th>\n",
       "      <th>Datum</th>\n",
       "      <th>Produkt</th>\n",
       "      <th>Bruttoumsatz</th>\n",
       "      <th>Nettoumsatz</th>\n",
       "      <th>Menge</th>\n",
       "      <th>Abv. Messmenge kg</th>\n",
       "    </tr>\n",
       "    <tr>\n",
       "      <th>Produkt</th>\n",
       "      <th></th>\n",
       "      <th></th>\n",
       "      <th></th>\n",
       "      <th></th>\n",
       "      <th></th>\n",
       "      <th></th>\n",
       "      <th></th>\n",
       "      <th></th>\n",
       "    </tr>\n",
       "  </thead>\n",
       "  <tbody>\n",
       "    <tr>\n",
       "      <th rowspan=\"5\" valign=\"top\">Chirashi Salmon</th>\n",
       "      <th>36</th>\n",
       "      <td>Zürich Langstrasse</td>\n",
       "      <td>2023-01-01</td>\n",
       "      <td>Chirashi Salmon</td>\n",
       "      <td>13.000000</td>\n",
       "      <td>12.6829</td>\n",
       "      <td>1</td>\n",
       "      <td>0.282</td>\n",
       "    </tr>\n",
       "    <tr>\n",
       "      <th>12030</th>\n",
       "      <td>Genf Alfortern</td>\n",
       "      <td>2023-01-14</td>\n",
       "      <td>Chirashi Salmon</td>\n",
       "      <td>70.200000</td>\n",
       "      <td>68.4877</td>\n",
       "      <td>6</td>\n",
       "      <td>1.692</td>\n",
       "    </tr>\n",
       "    <tr>\n",
       "      <th>12064</th>\n",
       "      <td>Breinau</td>\n",
       "      <td>2023-01-14</td>\n",
       "      <td>Chirashi Salmon</td>\n",
       "      <td>39.000000</td>\n",
       "      <td>38.0487</td>\n",
       "      <td>3</td>\n",
       "      <td>0.846</td>\n",
       "    </tr>\n",
       "    <tr>\n",
       "      <th>12144</th>\n",
       "      <td>Savigny</td>\n",
       "      <td>2023-01-14</td>\n",
       "      <td>Chirashi Salmon</td>\n",
       "      <td>26.000000</td>\n",
       "      <td>25.3658</td>\n",
       "      <td>2</td>\n",
       "      <td>0.564</td>\n",
       "    </tr>\n",
       "    <tr>\n",
       "      <th>12328</th>\n",
       "      <td>Arreyo Centre</td>\n",
       "      <td>2023-01-14</td>\n",
       "      <td>Chirashi Salmon</td>\n",
       "      <td>26.000000</td>\n",
       "      <td>25.3658</td>\n",
       "      <td>2</td>\n",
       "      <td>0.564</td>\n",
       "    </tr>\n",
       "    <tr>\n",
       "      <th>...</th>\n",
       "      <th>...</th>\n",
       "      <td>...</td>\n",
       "      <td>...</td>\n",
       "      <td>...</td>\n",
       "      <td>...</td>\n",
       "      <td>...</td>\n",
       "      <td>...</td>\n",
       "      <td>...</td>\n",
       "    </tr>\n",
       "    <tr>\n",
       "      <th rowspan=\"5\" valign=\"top\">Yakitori Chicken Teriyaki</th>\n",
       "      <th>5416</th>\n",
       "      <td>Zergerberg</td>\n",
       "      <td>2023-01-07</td>\n",
       "      <td>Yakitori Chicken Teriyaki</td>\n",
       "      <td>5.950022</td>\n",
       "      <td>5.8049</td>\n",
       "      <td>1</td>\n",
       "      <td>0.000</td>\n",
       "    </tr>\n",
       "    <tr>\n",
       "      <th>5529</th>\n",
       "      <td>Zürich Käferberg</td>\n",
       "      <td>2023-01-07</td>\n",
       "      <td>Yakitori Chicken Teriyaki</td>\n",
       "      <td>11.900045</td>\n",
       "      <td>11.6098</td>\n",
       "      <td>2</td>\n",
       "      <td>0.000</td>\n",
       "    </tr>\n",
       "    <tr>\n",
       "      <th>5721</th>\n",
       "      <td>Montana</td>\n",
       "      <td>2023-01-07</td>\n",
       "      <td>Yakitori Chicken Teriyaki</td>\n",
       "      <td>23.800090</td>\n",
       "      <td>23.2196</td>\n",
       "      <td>4</td>\n",
       "      <td>0.000</td>\n",
       "    </tr>\n",
       "    <tr>\n",
       "      <th>6309</th>\n",
       "      <td>Zotelfingen</td>\n",
       "      <td>2023-01-09</td>\n",
       "      <td>Yakitori Chicken Teriyaki</td>\n",
       "      <td>11.900000</td>\n",
       "      <td>11.6098</td>\n",
       "      <td>2</td>\n",
       "      <td>0.230</td>\n",
       "    </tr>\n",
       "    <tr>\n",
       "      <th>19106</th>\n",
       "      <td>Breinau</td>\n",
       "      <td>2023-01-21</td>\n",
       "      <td>Yakitori Chicken Teriyaki</td>\n",
       "      <td>14.250000</td>\n",
       "      <td>13.9023</td>\n",
       "      <td>3</td>\n",
       "      <td>0.345</td>\n",
       "    </tr>\n",
       "  </tbody>\n",
       "</table>\n",
       "<p>19833 rows × 7 columns</p>\n",
       "</div>"
      ],
      "text/plain": [
       "                                       Sushi Corner      Datum  \\\n",
       "Produkt                                                          \n",
       "Chirashi Salmon           36     Zürich Langstrasse 2023-01-01   \n",
       "                          12030      Genf Alfortern 2023-01-14   \n",
       "                          12064             Breinau 2023-01-14   \n",
       "                          12144             Savigny 2023-01-14   \n",
       "                          12328       Arreyo Centre 2023-01-14   \n",
       "...                                             ...        ...   \n",
       "Yakitori Chicken Teriyaki 5416           Zergerberg 2023-01-07   \n",
       "                          5529     Zürich Käferberg 2023-01-07   \n",
       "                          5721              Montana 2023-01-07   \n",
       "                          6309          Zotelfingen 2023-01-09   \n",
       "                          19106             Breinau 2023-01-21   \n",
       "\n",
       "                                                   Produkt  Bruttoumsatz  \\\n",
       "Produkt                                                                    \n",
       "Chirashi Salmon           36               Chirashi Salmon     13.000000   \n",
       "                          12030            Chirashi Salmon     70.200000   \n",
       "                          12064            Chirashi Salmon     39.000000   \n",
       "                          12144            Chirashi Salmon     26.000000   \n",
       "                          12328            Chirashi Salmon     26.000000   \n",
       "...                                                    ...           ...   \n",
       "Yakitori Chicken Teriyaki 5416   Yakitori Chicken Teriyaki      5.950022   \n",
       "                          5529   Yakitori Chicken Teriyaki     11.900045   \n",
       "                          5721   Yakitori Chicken Teriyaki     23.800090   \n",
       "                          6309   Yakitori Chicken Teriyaki     11.900000   \n",
       "                          19106  Yakitori Chicken Teriyaki     14.250000   \n",
       "\n",
       "                                 Nettoumsatz  Menge  Abv. Messmenge kg  \n",
       "Produkt                                                                 \n",
       "Chirashi Salmon           36         12.6829      1              0.282  \n",
       "                          12030      68.4877      6              1.692  \n",
       "                          12064      38.0487      3              0.846  \n",
       "                          12144      25.3658      2              0.564  \n",
       "                          12328      25.3658      2              0.564  \n",
       "...                                      ...    ...                ...  \n",
       "Yakitori Chicken Teriyaki 5416        5.8049      1              0.000  \n",
       "                          5529       11.6098      2              0.000  \n",
       "                          5721       23.2196      4              0.000  \n",
       "                          6309       11.6098      2              0.230  \n",
       "                          19106      13.9023      3              0.345  \n",
       "\n",
       "[19833 rows x 7 columns]"
      ]
     },
     "execution_count": 39,
     "metadata": {},
     "output_type": "execute_result"
    }
   ],
   "source": [
    "data.groupby(['Produkt']).apply(lambda x: x.sort_values('Produkt'))"
   ]
  },
  {
   "cell_type": "code",
   "execution_count": 40,
   "id": "832d379f",
   "metadata": {},
   "outputs": [
    {
     "data": {
      "text/html": [
       "<div>\n",
       "<style scoped>\n",
       "    .dataframe tbody tr th:only-of-type {\n",
       "        vertical-align: middle;\n",
       "    }\n",
       "\n",
       "    .dataframe tbody tr th {\n",
       "        vertical-align: top;\n",
       "    }\n",
       "\n",
       "    .dataframe thead th {\n",
       "        text-align: right;\n",
       "    }\n",
       "</style>\n",
       "<table border=\"1\" class=\"dataframe\">\n",
       "  <thead>\n",
       "    <tr style=\"text-align: right;\">\n",
       "      <th></th>\n",
       "      <th>Sushi Corner</th>\n",
       "      <th>Datum</th>\n",
       "      <th>Bruttoumsatz</th>\n",
       "      <th>Nettoumsatz</th>\n",
       "      <th>Menge</th>\n",
       "      <th>Abv. Messmenge kg</th>\n",
       "    </tr>\n",
       "    <tr>\n",
       "      <th>Produkt</th>\n",
       "      <th></th>\n",
       "      <th></th>\n",
       "      <th></th>\n",
       "      <th></th>\n",
       "      <th></th>\n",
       "      <th></th>\n",
       "    </tr>\n",
       "  </thead>\n",
       "  <tbody>\n",
       "    <tr>\n",
       "      <th>Chirashi Salmon</th>\n",
       "      <td>Savigny</td>\n",
       "      <td>2023-01-12</td>\n",
       "      <td>52.00</td>\n",
       "      <td>50.7317</td>\n",
       "      <td>4</td>\n",
       "      <td>1.128</td>\n",
       "    </tr>\n",
       "    <tr>\n",
       "      <th>Chirashi Tuna</th>\n",
       "      <td>Grotto Pescatori</td>\n",
       "      <td>2023-01-18</td>\n",
       "      <td>11.20</td>\n",
       "      <td>10.9269</td>\n",
       "      <td>1</td>\n",
       "      <td>0.282</td>\n",
       "    </tr>\n",
       "    <tr>\n",
       "      <th>Chu-Maki Stk.</th>\n",
       "      <td>Uri Gotthardstrasse</td>\n",
       "      <td>2023-01-07</td>\n",
       "      <td>176.40</td>\n",
       "      <td>171.9657</td>\n",
       "      <td>63</td>\n",
       "      <td>63.000</td>\n",
       "    </tr>\n",
       "    <tr>\n",
       "      <th>Dragon Roll Stk.</th>\n",
       "      <td>Uri Gotthardstrasse</td>\n",
       "      <td>2023-01-09</td>\n",
       "      <td>54.00</td>\n",
       "      <td>52.1177</td>\n",
       "      <td>18</td>\n",
       "      <td>18.000</td>\n",
       "    </tr>\n",
       "    <tr>\n",
       "      <th>Erbsen Sriracha 85G</th>\n",
       "      <td>Basel Airport</td>\n",
       "      <td>2023-01-21</td>\n",
       "      <td>5.80</td>\n",
       "      <td>5.6586</td>\n",
       "      <td>2</td>\n",
       "      <td>0.060</td>\n",
       "    </tr>\n",
       "    <tr>\n",
       "      <th>...</th>\n",
       "      <td>...</td>\n",
       "      <td>...</td>\n",
       "      <td>...</td>\n",
       "      <td>...</td>\n",
       "      <td>...</td>\n",
       "      <td>...</td>\n",
       "    </tr>\n",
       "    <tr>\n",
       "      <th>Sushi Vutoyama</th>\n",
       "      <td>St. Antwil</td>\n",
       "      <td>2023-01-13</td>\n",
       "      <td>9.50</td>\n",
       "      <td>9.2683</td>\n",
       "      <td>1</td>\n",
       "      <td>0.160</td>\n",
       "    </tr>\n",
       "    <tr>\n",
       "      <th>Sushi Yatomi</th>\n",
       "      <td>Zürich Stadelhofen</td>\n",
       "      <td>2023-01-03</td>\n",
       "      <td>15.90</td>\n",
       "      <td>15.5122</td>\n",
       "      <td>1</td>\n",
       "      <td>0.100</td>\n",
       "    </tr>\n",
       "    <tr>\n",
       "      <th>Sushi Yokohama</th>\n",
       "      <td>Alpero</td>\n",
       "      <td>2023-01-19</td>\n",
       "      <td>87.60</td>\n",
       "      <td>85.4635</td>\n",
       "      <td>5</td>\n",
       "      <td>0.500</td>\n",
       "    </tr>\n",
       "    <tr>\n",
       "      <th>Yakitori Bbq Veggie Balls</th>\n",
       "      <td>Breinau</td>\n",
       "      <td>2023-01-20</td>\n",
       "      <td>3.96</td>\n",
       "      <td>3.8634</td>\n",
       "      <td>1</td>\n",
       "      <td>0.120</td>\n",
       "    </tr>\n",
       "    <tr>\n",
       "      <th>Yakitori Chicken Teriyaki</th>\n",
       "      <td>Montana</td>\n",
       "      <td>2023-01-05</td>\n",
       "      <td>11.90</td>\n",
       "      <td>11.6098</td>\n",
       "      <td>2</td>\n",
       "      <td>0.230</td>\n",
       "    </tr>\n",
       "  </tbody>\n",
       "</table>\n",
       "<p>88 rows × 6 columns</p>\n",
       "</div>"
      ],
      "text/plain": [
       "                                  Sushi Corner      Datum  Bruttoumsatz  \\\n",
       "Produkt                                                                   \n",
       "Chirashi Salmon                        Savigny 2023-01-12         52.00   \n",
       "Chirashi Tuna                 Grotto Pescatori 2023-01-18         11.20   \n",
       "Chu-Maki Stk.              Uri Gotthardstrasse 2023-01-07        176.40   \n",
       "Dragon Roll Stk.           Uri Gotthardstrasse 2023-01-09         54.00   \n",
       "Erbsen Sriracha 85G              Basel Airport 2023-01-21          5.80   \n",
       "...                                        ...        ...           ...   \n",
       "Sushi Vutoyama                      St. Antwil 2023-01-13          9.50   \n",
       "Sushi Yatomi                Zürich Stadelhofen 2023-01-03         15.90   \n",
       "Sushi Yokohama                          Alpero 2023-01-19         87.60   \n",
       "Yakitori Bbq Veggie Balls              Breinau 2023-01-20          3.96   \n",
       "Yakitori Chicken Teriyaki              Montana 2023-01-05         11.90   \n",
       "\n",
       "                           Nettoumsatz  Menge  Abv. Messmenge kg  \n",
       "Produkt                                                           \n",
       "Chirashi Salmon                50.7317      4              1.128  \n",
       "Chirashi Tuna                  10.9269      1              0.282  \n",
       "Chu-Maki Stk.                 171.9657     63             63.000  \n",
       "Dragon Roll Stk.               52.1177     18             18.000  \n",
       "Erbsen Sriracha 85G             5.6586      2              0.060  \n",
       "...                                ...    ...                ...  \n",
       "Sushi Vutoyama                  9.2683      1              0.160  \n",
       "Sushi Yatomi                   15.5122      1              0.100  \n",
       "Sushi Yokohama                 85.4635      5              0.500  \n",
       "Yakitori Bbq Veggie Balls       3.8634      1              0.120  \n",
       "Yakitori Chicken Teriyaki      11.6098      2              0.230  \n",
       "\n",
       "[88 rows x 6 columns]"
      ]
     },
     "execution_count": 40,
     "metadata": {},
     "output_type": "execute_result"
    }
   ],
   "source": [
    "data.sort_values('Produkt').groupby('Produkt').last()"
   ]
  },
  {
   "cell_type": "code",
   "execution_count": 41,
   "id": "e032e381",
   "metadata": {},
   "outputs": [
    {
     "data": {
      "text/plain": [
       "array(['Sushi Akita', 'Sushi Kyoto', 'Sushi Tama', 'Sushi Handa',\n",
       "       'Sushi Seto', 'Sushi Katori', 'Sushi Yokohama', 'Sushi Nara',\n",
       "       'Salad Chicken Quinoa', 'Poke Bowl Yamakake',\n",
       "       'Salad Smoked Salmon', 'Salad Shrimp Cocktail', 'Salad Sashimi',\n",
       "       'Sauce Shichimi', 'Sushi Kasai', 'Sushi Kobe', 'Sushi Mutsu',\n",
       "       'Poke Bowl Crevetten', 'Sushi Yatomi', 'Sushi Chiba',\n",
       "       'Chirashi Salmon', 'Poke Bowl Zukedon', 'Poke Bowl Spicy Sake',\n",
       "       'Sauce Teriyaki', 'Sushi Nagoya', 'Sushi Komaki', 'Sushi Fukuyama',\n",
       "       'Salad Wakame Gomae', 'Ramen Miso Veggie/Tofu',\n",
       "       'Ramen Miso Veggie/Chicken', 'Spicy Korean Noodles',\n",
       "       'Yakitori Bbq Veggie Balls', 'Yakitori Chicken Teriyaki',\n",
       "       'Korea Chick Japchae Noodl', 'Poke Bowl Mix', 'Poke Bowl Salmon',\n",
       "       'Poke Bowl Smoked Salmon', 'Poke Bowl Tuna', 'Salad Beef Tataki',\n",
       "       'Sushi Inzai', 'Sushi Sakai', 'Grüntee Oishi  50Cl',\n",
       "       'Nüsse Wasabi Nori 90G', 'Sushi Koga', 'Sauce Zukedon',\n",
       "       'Sushi Nigiri Veg Rainbow', 'Indonesian Fr Rice 380G',\n",
       "       'Seoul Spicy Noodles 380G', 'Samosa Gemuese 170G',\n",
       "       'Krevetten Tempura 100G', 'Md Asia Menue Gross',\n",
       "       'Poulet Curry&Nouilles', 'Sushi Kaizu', 'Chirashi Tuna',\n",
       "       'Sauce Yamakake', 'Sushi Kimitsu', 'Sushi Vutoyama',\n",
       "       'Poke Bowl Vegetarian', 'Sushi Narita', 'Poke Bowl Bed',\n",
       "       'Onigirazu Spicy Veggies', 'Salad Edamame', 'Erbsen Sriracha 85G',\n",
       "       'Nüsse Kokos 90G', 'Sushi Noda', 'Hoso-Maki Stk.', 'Chu-Maki Stk.',\n",
       "       'Nigiri Stk.', 'Dragon Roll Stk.', 'Md Asia Menue Klein',\n",
       "       'Md Asia Menue Mittel', 'Malaysian Cr Chicken 380G',\n",
       "       'Nasi Goreng Fried Rice', 'Sushi Chu-Maki', 'Sushi Nigiri',\n",
       "       'Sushi Hoso-Maki', 'Sushi Chu-Maki Tatar', 'Sushi Platte Asakura',\n",
       "       'Sushi Platte Kamakura', 'Salmtartare Spicyteriyaki',\n",
       "       'Salmon Tartare Yuzu', 'Fruehlingsrol Poulet 180G',\n",
       "       'Sushi Platte Niji', 'Sushi Platte Fuyu',\n",
       "       'Fruehlingsrol Gemues 180G', 'Sushi Platte Shogatsu',\n",
       "       'Sushi Platte Takayama', 'Olong Tee O.Z. 50Cl'], dtype=object)"
      ]
     },
     "execution_count": 41,
     "metadata": {},
     "output_type": "execute_result"
    }
   ],
   "source": [
    "data['Produkt'].unique()"
   ]
  },
  {
   "cell_type": "code",
   "execution_count": 42,
   "id": "e1960ff0",
   "metadata": {},
   "outputs": [],
   "source": [
    "data['Produkt']= data['Produkt'].replace(['Sushi Akita'], 'Sushi Amita')\n",
    "                                "
   ]
  },
  {
   "cell_type": "code",
   "execution_count": 43,
   "id": "4bb8c9d7",
   "metadata": {},
   "outputs": [],
   "source": [
    "data['Produkt']= data['Produkt'].replace(['Sushi Kyoto'], 'Sushi Kayodo')"
   ]
  },
  {
   "cell_type": "code",
   "execution_count": 44,
   "id": "b523b6b7",
   "metadata": {},
   "outputs": [],
   "source": [
    "data['Produkt']= data['Produkt'].replace(['Sushi Tama'], 'Sushi Lama')"
   ]
  },
  {
   "cell_type": "code",
   "execution_count": 45,
   "id": "0839b0e7",
   "metadata": {},
   "outputs": [],
   "source": [
    "data['Produkt']= data['Produkt'].replace(['Sushi Handa'], 'Sushi Sanda')"
   ]
  },
  {
   "cell_type": "code",
   "execution_count": 46,
   "id": "323718b7",
   "metadata": {},
   "outputs": [],
   "source": [
    "data['Produkt']= data['Produkt'].replace(['Sushi Seto'], 'Sushi Keto')"
   ]
  },
  {
   "cell_type": "code",
   "execution_count": 47,
   "id": "95a0794f",
   "metadata": {},
   "outputs": [
    {
     "data": {
      "text/plain": [
       "array(['Sushi Amita', 'Sushi Kayodo', 'Sushi Lama', 'Sushi Sanda',\n",
       "       'Sushi Keto', 'Sushi Katori', 'Sushi Yokohama', 'Sushi Nara',\n",
       "       'Salad Chicken Quinoa', 'Poke Bowl Yamakake',\n",
       "       'Salad Smoked Salmon', 'Salad Shrimp Cocktail', 'Salad Sashimi',\n",
       "       'Sauce Shichimi', 'Sushi Kasai', 'Sushi Kobe', 'Sushi Mutsu',\n",
       "       'Poke Bowl Crevetten', 'Sushi Yatomi', 'Sushi Chiba',\n",
       "       'Chirashi Salmon', 'Poke Bowl Zukedon', 'Poke Bowl Spicy Sake',\n",
       "       'Sauce Teriyaki', 'Sushi Nagoya', 'Sushi Komaki', 'Sushi Fukuyama',\n",
       "       'Salad Wakame Gomae', 'Ramen Miso Veggie/Tofu',\n",
       "       'Ramen Miso Veggie/Chicken', 'Spicy Korean Noodles',\n",
       "       'Yakitori Bbq Veggie Balls', 'Yakitori Chicken Teriyaki',\n",
       "       'Korea Chick Japchae Noodl', 'Poke Bowl Mix', 'Poke Bowl Salmon',\n",
       "       'Poke Bowl Smoked Salmon', 'Poke Bowl Tuna', 'Salad Beef Tataki',\n",
       "       'Sushi Inzai', 'Sushi Sakai', 'Grüntee Oishi  50Cl',\n",
       "       'Nüsse Wasabi Nori 90G', 'Sushi Koga', 'Sauce Zukedon',\n",
       "       'Sushi Nigiri Veg Rainbow', 'Indonesian Fr Rice 380G',\n",
       "       'Seoul Spicy Noodles 380G', 'Samosa Gemuese 170G',\n",
       "       'Krevetten Tempura 100G', 'Md Asia Menue Gross',\n",
       "       'Poulet Curry&Nouilles', 'Sushi Kaizu', 'Chirashi Tuna',\n",
       "       'Sauce Yamakake', 'Sushi Kimitsu', 'Sushi Vutoyama',\n",
       "       'Poke Bowl Vegetarian', 'Sushi Narita', 'Poke Bowl Bed',\n",
       "       'Onigirazu Spicy Veggies', 'Salad Edamame', 'Erbsen Sriracha 85G',\n",
       "       'Nüsse Kokos 90G', 'Sushi Noda', 'Hoso-Maki Stk.', 'Chu-Maki Stk.',\n",
       "       'Nigiri Stk.', 'Dragon Roll Stk.', 'Md Asia Menue Klein',\n",
       "       'Md Asia Menue Mittel', 'Malaysian Cr Chicken 380G',\n",
       "       'Nasi Goreng Fried Rice', 'Sushi Chu-Maki', 'Sushi Nigiri',\n",
       "       'Sushi Hoso-Maki', 'Sushi Chu-Maki Tatar', 'Sushi Platte Asakura',\n",
       "       'Sushi Platte Kamakura', 'Salmtartare Spicyteriyaki',\n",
       "       'Salmon Tartare Yuzu', 'Fruehlingsrol Poulet 180G',\n",
       "       'Sushi Platte Niji', 'Sushi Platte Fuyu',\n",
       "       'Fruehlingsrol Gemues 180G', 'Sushi Platte Shogatsu',\n",
       "       'Sushi Platte Takayama', 'Olong Tee O.Z. 50Cl'], dtype=object)"
      ]
     },
     "execution_count": 47,
     "metadata": {},
     "output_type": "execute_result"
    }
   ],
   "source": [
    "data['Produkt'].unique()"
   ]
  },
  {
   "cell_type": "code",
   "execution_count": 48,
   "id": "20ff1321",
   "metadata": {},
   "outputs": [],
   "source": [
    "data['Produkt']= data['Produkt'].replace(['Sushi Katori'], 'Sushi Betari')"
   ]
  },
  {
   "cell_type": "code",
   "execution_count": 49,
   "id": "67ab36c0",
   "metadata": {},
   "outputs": [],
   "source": [
    "data['Produkt']= data['Produkt'].replace(['Sushi Yokohama'], 'Sushi Yakekama')"
   ]
  },
  {
   "cell_type": "code",
   "execution_count": 50,
   "id": "9b9fff9d",
   "metadata": {},
   "outputs": [],
   "source": [
    "data['Produkt']= data['Produkt'].replace(['Sushi Nara'], 'Sushi Tara')"
   ]
  },
  {
   "cell_type": "code",
   "execution_count": 51,
   "id": "a2991f0c",
   "metadata": {},
   "outputs": [],
   "source": [
    "data['Produkt']= data['Produkt'].replace(['Salad Chicken Quinoa'], 'Salad Asian Chicken')"
   ]
  },
  {
   "cell_type": "code",
   "execution_count": 52,
   "id": "10a9e449",
   "metadata": {},
   "outputs": [],
   "source": [
    "data['Produkt']= data['Produkt'].replace(['Poke Bowl Yamakake'], 'Poke Bowl Sesamtofu')"
   ]
  },
  {
   "cell_type": "code",
   "execution_count": 53,
   "id": "ea7d66a7",
   "metadata": {},
   "outputs": [],
   "source": [
    "data['Produkt']= data['Produkt'].replace(['Salad Smoked Salmon'], 'Salad Avocado Salmon')"
   ]
  },
  {
   "cell_type": "code",
   "execution_count": 54,
   "id": "67f4e539",
   "metadata": {},
   "outputs": [],
   "source": [
    "data['Produkt']= data['Produkt'].replace(['Salad Shrimp Cocktail'], 'Salad Summer Shrimp')"
   ]
  },
  {
   "cell_type": "code",
   "execution_count": 55,
   "id": "aaa08d5c",
   "metadata": {},
   "outputs": [],
   "source": [
    "data['Produkt']= data['Produkt'].replace(['Salad Sashimi'], 'Salad Sashimi Orange')"
   ]
  },
  {
   "cell_type": "code",
   "execution_count": 56,
   "id": "0e18cecb",
   "metadata": {},
   "outputs": [],
   "source": [
    "data['Produkt']= data['Produkt'].replace(['Sauce Shichimi'], 'Sauce Unagi')"
   ]
  },
  {
   "cell_type": "code",
   "execution_count": 57,
   "id": "5e6f4a25",
   "metadata": {},
   "outputs": [],
   "source": [
    "data['Produkt']= data['Produkt'].replace(['Sushi Kasai'], 'Sushi Gasai')"
   ]
  },
  {
   "cell_type": "code",
   "execution_count": 58,
   "id": "b66f2a17",
   "metadata": {},
   "outputs": [],
   "source": [
    "data['Produkt']= data['Produkt'].replace(['Sushi Kobe'], 'Sushi Kode')"
   ]
  },
  {
   "cell_type": "code",
   "execution_count": 59,
   "id": "7008ccd0",
   "metadata": {},
   "outputs": [],
   "source": [
    "data['Produkt']= data['Produkt'].replace(['Sushi Mutsu'], 'Sushi Usutmu')"
   ]
  },
  {
   "cell_type": "code",
   "execution_count": 60,
   "id": "6b8d38f9",
   "metadata": {},
   "outputs": [],
   "source": [
    "data['Produkt']= data['Produkt'].replace(['Poke Bowl Crevetten'], 'Poke Bowl Shrimp Mango')"
   ]
  },
  {
   "cell_type": "code",
   "execution_count": 61,
   "id": "5a9073e1",
   "metadata": {},
   "outputs": [],
   "source": [
    "data['Produkt']= data['Produkt'].replace(['Sushi Yatomi'], 'Sushi Potema')"
   ]
  },
  {
   "cell_type": "code",
   "execution_count": 62,
   "id": "7b198400",
   "metadata": {},
   "outputs": [],
   "source": [
    "data['Produkt']= data['Produkt'].replace(['Sushi Chiba'], 'Sushi Kaiba')"
   ]
  },
  {
   "cell_type": "code",
   "execution_count": 63,
   "id": "d6b9503e",
   "metadata": {},
   "outputs": [],
   "source": [
    "data['Produkt']= data['Produkt'].replace(['Poke Bowl Zukedon'], 'Poke Bowl Mix')"
   ]
  },
  {
   "cell_type": "code",
   "execution_count": 64,
   "id": "d39ee301",
   "metadata": {},
   "outputs": [
    {
     "data": {
      "text/plain": [
       "array(['Sushi Amita', 'Sushi Kayodo', 'Sushi Lama', 'Sushi Sanda',\n",
       "       'Sushi Keto', 'Sushi Betari', 'Sushi Yakekama', 'Sushi Tara',\n",
       "       'Salad Asian Chicken', 'Poke Bowl Sesamtofu',\n",
       "       'Salad Avocado Salmon', 'Salad Summer Shrimp',\n",
       "       'Salad Sashimi Orange', 'Sauce Unagi', 'Sushi Gasai', 'Sushi Kode',\n",
       "       'Sushi Usutmu', 'Poke Bowl Shrimp Mango', 'Sushi Potema',\n",
       "       'Sushi Kaiba', 'Chirashi Salmon', 'Poke Bowl Mix',\n",
       "       'Poke Bowl Spicy Sake', 'Sauce Teriyaki', 'Sushi Nagoya',\n",
       "       'Sushi Komaki', 'Sushi Fukuyama', 'Salad Wakame Gomae',\n",
       "       'Ramen Miso Veggie/Tofu', 'Ramen Miso Veggie/Chicken',\n",
       "       'Spicy Korean Noodles', 'Yakitori Bbq Veggie Balls',\n",
       "       'Yakitori Chicken Teriyaki', 'Korea Chick Japchae Noodl',\n",
       "       'Poke Bowl Salmon', 'Poke Bowl Smoked Salmon', 'Poke Bowl Tuna',\n",
       "       'Salad Beef Tataki', 'Sushi Inzai', 'Sushi Sakai',\n",
       "       'Grüntee Oishi  50Cl', 'Nüsse Wasabi Nori 90G', 'Sushi Koga',\n",
       "       'Sauce Zukedon', 'Sushi Nigiri Veg Rainbow',\n",
       "       'Indonesian Fr Rice 380G', 'Seoul Spicy Noodles 380G',\n",
       "       'Samosa Gemuese 170G', 'Krevetten Tempura 100G',\n",
       "       'Md Asia Menue Gross', 'Poulet Curry&Nouilles', 'Sushi Kaizu',\n",
       "       'Chirashi Tuna', 'Sauce Yamakake', 'Sushi Kimitsu',\n",
       "       'Sushi Vutoyama', 'Poke Bowl Vegetarian', 'Sushi Narita',\n",
       "       'Poke Bowl Bed', 'Onigirazu Spicy Veggies', 'Salad Edamame',\n",
       "       'Erbsen Sriracha 85G', 'Nüsse Kokos 90G', 'Sushi Noda',\n",
       "       'Hoso-Maki Stk.', 'Chu-Maki Stk.', 'Nigiri Stk.',\n",
       "       'Dragon Roll Stk.', 'Md Asia Menue Klein', 'Md Asia Menue Mittel',\n",
       "       'Malaysian Cr Chicken 380G', 'Nasi Goreng Fried Rice',\n",
       "       'Sushi Chu-Maki', 'Sushi Nigiri', 'Sushi Hoso-Maki',\n",
       "       'Sushi Chu-Maki Tatar', 'Sushi Platte Asakura',\n",
       "       'Sushi Platte Kamakura', 'Salmtartare Spicyteriyaki',\n",
       "       'Salmon Tartare Yuzu', 'Fruehlingsrol Poulet 180G',\n",
       "       'Sushi Platte Niji', 'Sushi Platte Fuyu',\n",
       "       'Fruehlingsrol Gemues 180G', 'Sushi Platte Shogatsu',\n",
       "       'Sushi Platte Takayama', 'Olong Tee O.Z. 50Cl'], dtype=object)"
      ]
     },
     "execution_count": 64,
     "metadata": {},
     "output_type": "execute_result"
    }
   ],
   "source": [
    "data['Produkt'].unique()"
   ]
  },
  {
   "cell_type": "code",
   "execution_count": 65,
   "id": "5cf4fda3",
   "metadata": {},
   "outputs": [],
   "source": [
    "data['Produkt']= data['Produkt'].replace(['Poke Bowl Spicy Sake'], 'Poke Bowl SalmonTeriyaki ')"
   ]
  },
  {
   "cell_type": "code",
   "execution_count": 66,
   "id": "8d258c64",
   "metadata": {},
   "outputs": [],
   "source": [
    "data['Produkt']= data['Produkt'].replace(['Sauce Teriyaki'], 'Poke Bowl Tonkatsu')"
   ]
  },
  {
   "cell_type": "code",
   "execution_count": 67,
   "id": "f2cdc185",
   "metadata": {},
   "outputs": [],
   "source": [
    "data['Produkt']= data['Produkt'].replace(['Sushi Nagoya'], 'Sushi Yagona')"
   ]
  },
  {
   "cell_type": "code",
   "execution_count": 68,
   "id": "4e8965e7",
   "metadata": {},
   "outputs": [],
   "source": [
    "data['Produkt']= data['Produkt'].replace(['Sushi Komaki'], 'Sushi Makiko')"
   ]
  },
  {
   "cell_type": "code",
   "execution_count": 69,
   "id": "f61f3301",
   "metadata": {},
   "outputs": [],
   "source": [
    "data['Produkt']= data['Produkt'].replace(['Sushi Fukuyama'], 'Sushi Yamakufu')"
   ]
  },
  {
   "cell_type": "code",
   "execution_count": 70,
   "id": "3a88fa03",
   "metadata": {},
   "outputs": [],
   "source": [
    "data.drop(data[data['Produkt']=='Hoso-Maki Stk.'].index, inplace= True)"
   ]
  },
  {
   "cell_type": "code",
   "execution_count": 71,
   "id": "4f429a7c",
   "metadata": {},
   "outputs": [
    {
     "name": "stdout",
     "output_type": "stream",
     "text": [
      "<class 'pandas.core.frame.DataFrame'>\n",
      "Int64Index: 19798 entries, 0 to 19832\n",
      "Data columns (total 7 columns):\n",
      " #   Column             Non-Null Count  Dtype         \n",
      "---  ------             --------------  -----         \n",
      " 0   Sushi Corner       19798 non-null  object        \n",
      " 1   Datum              19798 non-null  datetime64[ns]\n",
      " 2   Produkt            19798 non-null  object        \n",
      " 3   Bruttoumsatz       19798 non-null  float64       \n",
      " 4   Nettoumsatz        19798 non-null  float64       \n",
      " 5   Menge              19798 non-null  int64         \n",
      " 6   Abv. Messmenge kg  19798 non-null  float64       \n",
      "dtypes: datetime64[ns](1), float64(3), int64(1), object(2)\n",
      "memory usage: 1.2+ MB\n"
     ]
    }
   ],
   "source": [
    "data.info()"
   ]
  },
  {
   "cell_type": "code",
   "execution_count": 72,
   "id": "689958b9",
   "metadata": {},
   "outputs": [],
   "source": [
    "data.drop(data[data['Produkt']=='Chu-Maki Stk.'].index, inplace= True)"
   ]
  },
  {
   "cell_type": "code",
   "execution_count": 73,
   "id": "a5ee7a7f",
   "metadata": {},
   "outputs": [
    {
     "name": "stdout",
     "output_type": "stream",
     "text": [
      "<class 'pandas.core.frame.DataFrame'>\n",
      "Int64Index: 19762 entries, 0 to 19832\n",
      "Data columns (total 7 columns):\n",
      " #   Column             Non-Null Count  Dtype         \n",
      "---  ------             --------------  -----         \n",
      " 0   Sushi Corner       19762 non-null  object        \n",
      " 1   Datum              19762 non-null  datetime64[ns]\n",
      " 2   Produkt            19762 non-null  object        \n",
      " 3   Bruttoumsatz       19762 non-null  float64       \n",
      " 4   Nettoumsatz        19762 non-null  float64       \n",
      " 5   Menge              19762 non-null  int64         \n",
      " 6   Abv. Messmenge kg  19762 non-null  float64       \n",
      "dtypes: datetime64[ns](1), float64(3), int64(1), object(2)\n",
      "memory usage: 1.2+ MB\n"
     ]
    }
   ],
   "source": [
    "data.info()"
   ]
  },
  {
   "cell_type": "code",
   "execution_count": 74,
   "id": "95c70a0f",
   "metadata": {},
   "outputs": [],
   "source": [
    "data.drop(data[data['Produkt']=='Nigiri Stk.'].index, inplace= True)"
   ]
  },
  {
   "cell_type": "code",
   "execution_count": 75,
   "id": "36573995",
   "metadata": {},
   "outputs": [
    {
     "name": "stdout",
     "output_type": "stream",
     "text": [
      "<class 'pandas.core.frame.DataFrame'>\n",
      "Int64Index: 19726 entries, 0 to 19832\n",
      "Data columns (total 7 columns):\n",
      " #   Column             Non-Null Count  Dtype         \n",
      "---  ------             --------------  -----         \n",
      " 0   Sushi Corner       19726 non-null  object        \n",
      " 1   Datum              19726 non-null  datetime64[ns]\n",
      " 2   Produkt            19726 non-null  object        \n",
      " 3   Bruttoumsatz       19726 non-null  float64       \n",
      " 4   Nettoumsatz        19726 non-null  float64       \n",
      " 5   Menge              19726 non-null  int64         \n",
      " 6   Abv. Messmenge kg  19726 non-null  float64       \n",
      "dtypes: datetime64[ns](1), float64(3), int64(1), object(2)\n",
      "memory usage: 1.2+ MB\n"
     ]
    }
   ],
   "source": [
    "data.info()"
   ]
  },
  {
   "cell_type": "code",
   "execution_count": 76,
   "id": "0f0049ba",
   "metadata": {},
   "outputs": [
    {
     "data": {
      "text/plain": [
       "array(['Sushi Amita', 'Sushi Kayodo', 'Sushi Lama', 'Sushi Sanda',\n",
       "       'Sushi Keto', 'Sushi Betari', 'Sushi Yakekama', 'Sushi Tara',\n",
       "       'Salad Asian Chicken', 'Poke Bowl Sesamtofu',\n",
       "       'Salad Avocado Salmon', 'Salad Summer Shrimp',\n",
       "       'Salad Sashimi Orange', 'Sauce Unagi', 'Sushi Gasai', 'Sushi Kode',\n",
       "       'Sushi Usutmu', 'Poke Bowl Shrimp Mango', 'Sushi Potema',\n",
       "       'Sushi Kaiba', 'Chirashi Salmon', 'Poke Bowl Mix',\n",
       "       'Poke Bowl SalmonTeriyaki ', 'Poke Bowl Tonkatsu', 'Sushi Yagona',\n",
       "       'Sushi Makiko', 'Sushi Yamakufu', 'Salad Wakame Gomae',\n",
       "       'Ramen Miso Veggie/Tofu', 'Ramen Miso Veggie/Chicken',\n",
       "       'Spicy Korean Noodles', 'Yakitori Bbq Veggie Balls',\n",
       "       'Yakitori Chicken Teriyaki', 'Korea Chick Japchae Noodl',\n",
       "       'Poke Bowl Salmon', 'Poke Bowl Smoked Salmon', 'Poke Bowl Tuna',\n",
       "       'Salad Beef Tataki', 'Sushi Inzai', 'Sushi Sakai',\n",
       "       'Grüntee Oishi  50Cl', 'Nüsse Wasabi Nori 90G', 'Sushi Koga',\n",
       "       'Sauce Zukedon', 'Sushi Nigiri Veg Rainbow',\n",
       "       'Indonesian Fr Rice 380G', 'Seoul Spicy Noodles 380G',\n",
       "       'Samosa Gemuese 170G', 'Krevetten Tempura 100G',\n",
       "       'Md Asia Menue Gross', 'Poulet Curry&Nouilles', 'Sushi Kaizu',\n",
       "       'Chirashi Tuna', 'Sauce Yamakake', 'Sushi Kimitsu',\n",
       "       'Sushi Vutoyama', 'Poke Bowl Vegetarian', 'Sushi Narita',\n",
       "       'Poke Bowl Bed', 'Onigirazu Spicy Veggies', 'Salad Edamame',\n",
       "       'Erbsen Sriracha 85G', 'Nüsse Kokos 90G', 'Sushi Noda',\n",
       "       'Dragon Roll Stk.', 'Md Asia Menue Klein', 'Md Asia Menue Mittel',\n",
       "       'Malaysian Cr Chicken 380G', 'Nasi Goreng Fried Rice',\n",
       "       'Sushi Chu-Maki', 'Sushi Nigiri', 'Sushi Hoso-Maki',\n",
       "       'Sushi Chu-Maki Tatar', 'Sushi Platte Asakura',\n",
       "       'Sushi Platte Kamakura', 'Salmtartare Spicyteriyaki',\n",
       "       'Salmon Tartare Yuzu', 'Fruehlingsrol Poulet 180G',\n",
       "       'Sushi Platte Niji', 'Sushi Platte Fuyu',\n",
       "       'Fruehlingsrol Gemues 180G', 'Sushi Platte Shogatsu',\n",
       "       'Sushi Platte Takayama', 'Olong Tee O.Z. 50Cl'], dtype=object)"
      ]
     },
     "execution_count": 76,
     "metadata": {},
     "output_type": "execute_result"
    }
   ],
   "source": [
    "data['Produkt'].unique()"
   ]
  },
  {
   "cell_type": "code",
   "execution_count": 77,
   "id": "386eb754",
   "metadata": {},
   "outputs": [
    {
     "name": "stdout",
     "output_type": "stream",
     "text": [
      "<class 'pandas.core.frame.DataFrame'>\n",
      "Int64Index: 19726 entries, 0 to 19832\n",
      "Data columns (total 7 columns):\n",
      " #   Column             Non-Null Count  Dtype         \n",
      "---  ------             --------------  -----         \n",
      " 0   Sushi Corner       19726 non-null  object        \n",
      " 1   Datum              19726 non-null  datetime64[ns]\n",
      " 2   Produkt            19726 non-null  object        \n",
      " 3   Bruttoumsatz       19726 non-null  float64       \n",
      " 4   Nettoumsatz        19726 non-null  float64       \n",
      " 5   Menge              19726 non-null  int64         \n",
      " 6   Abv. Messmenge kg  19726 non-null  float64       \n",
      "dtypes: datetime64[ns](1), float64(3), int64(1), object(2)\n",
      "memory usage: 1.2+ MB\n"
     ]
    }
   ],
   "source": [
    "data.info()"
   ]
  },
  {
   "cell_type": "code",
   "execution_count": 78,
   "id": "b36b9390",
   "metadata": {},
   "outputs": [],
   "source": [
    "data.drop(data[(data['Produkt']=='Sushi Chu-Maki') & (data['Produkt']=='Sushi Nigiri') & (data['Produkt']=='Sushi Hoso-Maki')].index, inplace= True)"
   ]
  },
  {
   "cell_type": "code",
   "execution_count": 79,
   "id": "acb7337d",
   "metadata": {},
   "outputs": [
    {
     "name": "stdout",
     "output_type": "stream",
     "text": [
      "<class 'pandas.core.frame.DataFrame'>\n",
      "Int64Index: 19726 entries, 0 to 19832\n",
      "Data columns (total 7 columns):\n",
      " #   Column             Non-Null Count  Dtype         \n",
      "---  ------             --------------  -----         \n",
      " 0   Sushi Corner       19726 non-null  object        \n",
      " 1   Datum              19726 non-null  datetime64[ns]\n",
      " 2   Produkt            19726 non-null  object        \n",
      " 3   Bruttoumsatz       19726 non-null  float64       \n",
      " 4   Nettoumsatz        19726 non-null  float64       \n",
      " 5   Menge              19726 non-null  int64         \n",
      " 6   Abv. Messmenge kg  19726 non-null  float64       \n",
      "dtypes: datetime64[ns](1), float64(3), int64(1), object(2)\n",
      "memory usage: 1.2+ MB\n"
     ]
    }
   ],
   "source": [
    "data.info()"
   ]
  },
  {
   "cell_type": "code",
   "execution_count": 80,
   "id": "6537637e",
   "metadata": {},
   "outputs": [],
   "source": [
    "data.drop(data[data['Produkt']=='Sushi Chu-Maki'].index, inplace= True)"
   ]
  },
  {
   "cell_type": "code",
   "execution_count": 81,
   "id": "620a85ca",
   "metadata": {},
   "outputs": [
    {
     "name": "stdout",
     "output_type": "stream",
     "text": [
      "<class 'pandas.core.frame.DataFrame'>\n",
      "Int64Index: 19705 entries, 0 to 19832\n",
      "Data columns (total 7 columns):\n",
      " #   Column             Non-Null Count  Dtype         \n",
      "---  ------             --------------  -----         \n",
      " 0   Sushi Corner       19705 non-null  object        \n",
      " 1   Datum              19705 non-null  datetime64[ns]\n",
      " 2   Produkt            19705 non-null  object        \n",
      " 3   Bruttoumsatz       19705 non-null  float64       \n",
      " 4   Nettoumsatz        19705 non-null  float64       \n",
      " 5   Menge              19705 non-null  int64         \n",
      " 6   Abv. Messmenge kg  19705 non-null  float64       \n",
      "dtypes: datetime64[ns](1), float64(3), int64(1), object(2)\n",
      "memory usage: 1.2+ MB\n"
     ]
    }
   ],
   "source": [
    "data.info()"
   ]
  },
  {
   "cell_type": "code",
   "execution_count": 82,
   "id": "a3086fcb",
   "metadata": {},
   "outputs": [],
   "source": [
    "data= data.loc[(data['Produkt']!= 'Sushi Nigiri') & (data['Produkt']!='Sushi Hoso-Maki')]"
   ]
  },
  {
   "cell_type": "code",
   "execution_count": 83,
   "id": "30b0aec5",
   "metadata": {},
   "outputs": [
    {
     "name": "stdout",
     "output_type": "stream",
     "text": [
      "<class 'pandas.core.frame.DataFrame'>\n",
      "Int64Index: 19638 entries, 0 to 19832\n",
      "Data columns (total 7 columns):\n",
      " #   Column             Non-Null Count  Dtype         \n",
      "---  ------             --------------  -----         \n",
      " 0   Sushi Corner       19638 non-null  object        \n",
      " 1   Datum              19638 non-null  datetime64[ns]\n",
      " 2   Produkt            19638 non-null  object        \n",
      " 3   Bruttoumsatz       19638 non-null  float64       \n",
      " 4   Nettoumsatz        19638 non-null  float64       \n",
      " 5   Menge              19638 non-null  int64         \n",
      " 6   Abv. Messmenge kg  19638 non-null  float64       \n",
      "dtypes: datetime64[ns](1), float64(3), int64(1), object(2)\n",
      "memory usage: 1.2+ MB\n"
     ]
    }
   ],
   "source": [
    "data.info()"
   ]
  },
  {
   "cell_type": "code",
   "execution_count": 84,
   "id": "03ba157e",
   "metadata": {},
   "outputs": [
    {
     "data": {
      "text/plain": [
       "array(['Sushi Amita', 'Sushi Kayodo', 'Sushi Lama', 'Sushi Sanda',\n",
       "       'Sushi Keto', 'Sushi Betari', 'Sushi Yakekama', 'Sushi Tara',\n",
       "       'Salad Asian Chicken', 'Poke Bowl Sesamtofu',\n",
       "       'Salad Avocado Salmon', 'Salad Summer Shrimp',\n",
       "       'Salad Sashimi Orange', 'Sauce Unagi', 'Sushi Gasai', 'Sushi Kode',\n",
       "       'Sushi Usutmu', 'Poke Bowl Shrimp Mango', 'Sushi Potema',\n",
       "       'Sushi Kaiba', 'Chirashi Salmon', 'Poke Bowl Mix',\n",
       "       'Poke Bowl SalmonTeriyaki ', 'Poke Bowl Tonkatsu', 'Sushi Yagona',\n",
       "       'Sushi Makiko', 'Sushi Yamakufu', 'Salad Wakame Gomae',\n",
       "       'Ramen Miso Veggie/Tofu', 'Ramen Miso Veggie/Chicken',\n",
       "       'Spicy Korean Noodles', 'Yakitori Bbq Veggie Balls',\n",
       "       'Yakitori Chicken Teriyaki', 'Korea Chick Japchae Noodl',\n",
       "       'Poke Bowl Salmon', 'Poke Bowl Smoked Salmon', 'Poke Bowl Tuna',\n",
       "       'Salad Beef Tataki', 'Sushi Inzai', 'Sushi Sakai',\n",
       "       'Grüntee Oishi  50Cl', 'Nüsse Wasabi Nori 90G', 'Sushi Koga',\n",
       "       'Sauce Zukedon', 'Sushi Nigiri Veg Rainbow',\n",
       "       'Indonesian Fr Rice 380G', 'Seoul Spicy Noodles 380G',\n",
       "       'Samosa Gemuese 170G', 'Krevetten Tempura 100G',\n",
       "       'Md Asia Menue Gross', 'Poulet Curry&Nouilles', 'Sushi Kaizu',\n",
       "       'Chirashi Tuna', 'Sauce Yamakake', 'Sushi Kimitsu',\n",
       "       'Sushi Vutoyama', 'Poke Bowl Vegetarian', 'Sushi Narita',\n",
       "       'Poke Bowl Bed', 'Onigirazu Spicy Veggies', 'Salad Edamame',\n",
       "       'Erbsen Sriracha 85G', 'Nüsse Kokos 90G', 'Sushi Noda',\n",
       "       'Dragon Roll Stk.', 'Md Asia Menue Klein', 'Md Asia Menue Mittel',\n",
       "       'Malaysian Cr Chicken 380G', 'Nasi Goreng Fried Rice',\n",
       "       'Sushi Chu-Maki Tatar', 'Sushi Platte Asakura',\n",
       "       'Sushi Platte Kamakura', 'Salmtartare Spicyteriyaki',\n",
       "       'Salmon Tartare Yuzu', 'Fruehlingsrol Poulet 180G',\n",
       "       'Sushi Platte Niji', 'Sushi Platte Fuyu',\n",
       "       'Fruehlingsrol Gemues 180G', 'Sushi Platte Shogatsu',\n",
       "       'Sushi Platte Takayama', 'Olong Tee O.Z. 50Cl'], dtype=object)"
      ]
     },
     "execution_count": 84,
     "metadata": {},
     "output_type": "execute_result"
    }
   ],
   "source": [
    "data['Produkt'].unique()"
   ]
  },
  {
   "cell_type": "code",
   "execution_count": 85,
   "id": "b9b05fe8",
   "metadata": {},
   "outputs": [],
   "source": [
    "data['Produkt']= data['Produkt'].replace('Salad Wakame Gomae', 'Salad Wakame')"
   ]
  },
  {
   "cell_type": "code",
   "execution_count": 86,
   "id": "feb12f22",
   "metadata": {},
   "outputs": [],
   "source": [
    "data['Produkt']= data['Produkt'].replace('Ramen Miso Veggie/Tofu', 'Miso Soup Tofu')"
   ]
  },
  {
   "cell_type": "code",
   "execution_count": 87,
   "id": "7e0f13d9",
   "metadata": {},
   "outputs": [],
   "source": [
    "data['Produkt']= data['Produkt'].replace('Ramen Miso Veggie/Chicken', 'Miso Soup Chicken')"
   ]
  },
  {
   "cell_type": "code",
   "execution_count": 88,
   "id": "7ef07a36",
   "metadata": {},
   "outputs": [],
   "source": [
    "data['Produkt']= data['Produkt'].replace('Spicy Korean Noodles', 'Fried Chicken Noodle')"
   ]
  },
  {
   "cell_type": "code",
   "execution_count": 89,
   "id": "b2dd7228",
   "metadata": {},
   "outputs": [],
   "source": [
    "data['Produkt']= data['Produkt'].replace('Spicy Korean Noodles', 'Fried Chicken Noodle')"
   ]
  },
  {
   "cell_type": "code",
   "execution_count": 90,
   "id": "4c99f2b7",
   "metadata": {},
   "outputs": [
    {
     "data": {
      "text/plain": [
       "array(['Sushi Amita', 'Sushi Kayodo', 'Sushi Lama', 'Sushi Sanda',\n",
       "       'Sushi Keto', 'Sushi Betari', 'Sushi Yakekama', 'Sushi Tara',\n",
       "       'Salad Asian Chicken', 'Poke Bowl Sesamtofu',\n",
       "       'Salad Avocado Salmon', 'Salad Summer Shrimp',\n",
       "       'Salad Sashimi Orange', 'Sauce Unagi', 'Sushi Gasai', 'Sushi Kode',\n",
       "       'Sushi Usutmu', 'Poke Bowl Shrimp Mango', 'Sushi Potema',\n",
       "       'Sushi Kaiba', 'Chirashi Salmon', 'Poke Bowl Mix',\n",
       "       'Poke Bowl SalmonTeriyaki ', 'Poke Bowl Tonkatsu', 'Sushi Yagona',\n",
       "       'Sushi Makiko', 'Sushi Yamakufu', 'Salad Wakame', 'Miso Soup Tofu',\n",
       "       'Miso Soup Chicken', 'Fried Chicken Noodle',\n",
       "       'Yakitori Bbq Veggie Balls', 'Yakitori Chicken Teriyaki',\n",
       "       'Korea Chick Japchae Noodl', 'Poke Bowl Salmon',\n",
       "       'Poke Bowl Smoked Salmon', 'Poke Bowl Tuna', 'Salad Beef Tataki',\n",
       "       'Sushi Inzai', 'Sushi Sakai', 'Grüntee Oishi  50Cl',\n",
       "       'Nüsse Wasabi Nori 90G', 'Sushi Koga', 'Sauce Zukedon',\n",
       "       'Sushi Nigiri Veg Rainbow', 'Indonesian Fr Rice 380G',\n",
       "       'Seoul Spicy Noodles 380G', 'Samosa Gemuese 170G',\n",
       "       'Krevetten Tempura 100G', 'Md Asia Menue Gross',\n",
       "       'Poulet Curry&Nouilles', 'Sushi Kaizu', 'Chirashi Tuna',\n",
       "       'Sauce Yamakake', 'Sushi Kimitsu', 'Sushi Vutoyama',\n",
       "       'Poke Bowl Vegetarian', 'Sushi Narita', 'Poke Bowl Bed',\n",
       "       'Onigirazu Spicy Veggies', 'Salad Edamame', 'Erbsen Sriracha 85G',\n",
       "       'Nüsse Kokos 90G', 'Sushi Noda', 'Dragon Roll Stk.',\n",
       "       'Md Asia Menue Klein', 'Md Asia Menue Mittel',\n",
       "       'Malaysian Cr Chicken 380G', 'Nasi Goreng Fried Rice',\n",
       "       'Sushi Chu-Maki Tatar', 'Sushi Platte Asakura',\n",
       "       'Sushi Platte Kamakura', 'Salmtartare Spicyteriyaki',\n",
       "       'Salmon Tartare Yuzu', 'Fruehlingsrol Poulet 180G',\n",
       "       'Sushi Platte Niji', 'Sushi Platte Fuyu',\n",
       "       'Fruehlingsrol Gemues 180G', 'Sushi Platte Shogatsu',\n",
       "       'Sushi Platte Takayama', 'Olong Tee O.Z. 50Cl'], dtype=object)"
      ]
     },
     "execution_count": 90,
     "metadata": {},
     "output_type": "execute_result"
    }
   ],
   "source": [
    "data['Produkt'].unique()"
   ]
  },
  {
   "cell_type": "code",
   "execution_count": 91,
   "id": "53ea5678",
   "metadata": {},
   "outputs": [],
   "source": [
    "data=data.replace({'Produkt':{'Yakitori Bbq Veggie Balls':'Vegie Balls', 'Yakitori Chicken Teriyaki': 'Chicken Balls', 'Korea Chick Japchae Noodl':'Korean Chicken Noodle'}})"
   ]
  },
  {
   "cell_type": "code",
   "execution_count": 92,
   "id": "a4b7257c",
   "metadata": {
    "scrolled": true
   },
   "outputs": [
    {
     "data": {
      "text/plain": [
       "array(['Sushi Amita', 'Sushi Kayodo', 'Sushi Lama', 'Sushi Sanda',\n",
       "       'Sushi Keto', 'Sushi Betari', 'Sushi Yakekama', 'Sushi Tara',\n",
       "       'Salad Asian Chicken', 'Poke Bowl Sesamtofu',\n",
       "       'Salad Avocado Salmon', 'Salad Summer Shrimp',\n",
       "       'Salad Sashimi Orange', 'Sauce Unagi', 'Sushi Gasai', 'Sushi Kode',\n",
       "       'Sushi Usutmu', 'Poke Bowl Shrimp Mango', 'Sushi Potema',\n",
       "       'Sushi Kaiba', 'Chirashi Salmon', 'Poke Bowl Mix',\n",
       "       'Poke Bowl SalmonTeriyaki ', 'Poke Bowl Tonkatsu', 'Sushi Yagona',\n",
       "       'Sushi Makiko', 'Sushi Yamakufu', 'Salad Wakame', 'Miso Soup Tofu',\n",
       "       'Miso Soup Chicken', 'Fried Chicken Noodle', 'Vegie Balls',\n",
       "       'Chicken Balls', 'Korean Chicken Noodle', 'Poke Bowl Salmon',\n",
       "       'Poke Bowl Smoked Salmon', 'Poke Bowl Tuna', 'Salad Beef Tataki',\n",
       "       'Sushi Inzai', 'Sushi Sakai', 'Grüntee Oishi  50Cl',\n",
       "       'Nüsse Wasabi Nori 90G', 'Sushi Koga', 'Sauce Zukedon',\n",
       "       'Sushi Nigiri Veg Rainbow', 'Indonesian Fr Rice 380G',\n",
       "       'Seoul Spicy Noodles 380G', 'Samosa Gemuese 170G',\n",
       "       'Krevetten Tempura 100G', 'Md Asia Menue Gross',\n",
       "       'Poulet Curry&Nouilles', 'Sushi Kaizu', 'Chirashi Tuna',\n",
       "       'Sauce Yamakake', 'Sushi Kimitsu', 'Sushi Vutoyama',\n",
       "       'Poke Bowl Vegetarian', 'Sushi Narita', 'Poke Bowl Bed',\n",
       "       'Onigirazu Spicy Veggies', 'Salad Edamame', 'Erbsen Sriracha 85G',\n",
       "       'Nüsse Kokos 90G', 'Sushi Noda', 'Dragon Roll Stk.',\n",
       "       'Md Asia Menue Klein', 'Md Asia Menue Mittel',\n",
       "       'Malaysian Cr Chicken 380G', 'Nasi Goreng Fried Rice',\n",
       "       'Sushi Chu-Maki Tatar', 'Sushi Platte Asakura',\n",
       "       'Sushi Platte Kamakura', 'Salmtartare Spicyteriyaki',\n",
       "       'Salmon Tartare Yuzu', 'Fruehlingsrol Poulet 180G',\n",
       "       'Sushi Platte Niji', 'Sushi Platte Fuyu',\n",
       "       'Fruehlingsrol Gemues 180G', 'Sushi Platte Shogatsu',\n",
       "       'Sushi Platte Takayama', 'Olong Tee O.Z. 50Cl'], dtype=object)"
      ]
     },
     "execution_count": 92,
     "metadata": {},
     "output_type": "execute_result"
    }
   ],
   "source": [
    "data['Produkt'].unique()"
   ]
  },
  {
   "cell_type": "code",
   "execution_count": 93,
   "id": "0f4c13f1",
   "metadata": {},
   "outputs": [],
   "source": [
    "data= data.replace({'Produkt':{'Salad Beef Tataki': 'Salad Thai Beef','Sushi Inzai':'Sushi Zashi','Sushi Sakai': 'Sushi Kasai','Grüntee Oishi  50Cl':'Oishi Green Tea','Nüsse Wasabi Nori 90G':'Wasabi Nuts'}})"
   ]
  },
  {
   "cell_type": "code",
   "execution_count": 94,
   "id": "69ed5349",
   "metadata": {},
   "outputs": [
    {
     "data": {
      "text/plain": [
       "array(['Sushi Amita', 'Sushi Kayodo', 'Sushi Lama', 'Sushi Sanda',\n",
       "       'Sushi Keto', 'Sushi Betari', 'Sushi Yakekama', 'Sushi Tara',\n",
       "       'Salad Asian Chicken', 'Poke Bowl Sesamtofu',\n",
       "       'Salad Avocado Salmon', 'Salad Summer Shrimp',\n",
       "       'Salad Sashimi Orange', 'Sauce Unagi', 'Sushi Gasai', 'Sushi Kode',\n",
       "       'Sushi Usutmu', 'Poke Bowl Shrimp Mango', 'Sushi Potema',\n",
       "       'Sushi Kaiba', 'Chirashi Salmon', 'Poke Bowl Mix',\n",
       "       'Poke Bowl SalmonTeriyaki ', 'Poke Bowl Tonkatsu', 'Sushi Yagona',\n",
       "       'Sushi Makiko', 'Sushi Yamakufu', 'Salad Wakame', 'Miso Soup Tofu',\n",
       "       'Miso Soup Chicken', 'Fried Chicken Noodle', 'Vegie Balls',\n",
       "       'Chicken Balls', 'Korean Chicken Noodle', 'Poke Bowl Salmon',\n",
       "       'Poke Bowl Smoked Salmon', 'Poke Bowl Tuna', 'Salad Thai Beef',\n",
       "       'Sushi Zashi', 'Sushi Kasai', 'Oishi Green Tea', 'Wasabi Nuts',\n",
       "       'Sushi Koga', 'Sauce Zukedon', 'Sushi Nigiri Veg Rainbow',\n",
       "       'Indonesian Fr Rice 380G', 'Seoul Spicy Noodles 380G',\n",
       "       'Samosa Gemuese 170G', 'Krevetten Tempura 100G',\n",
       "       'Md Asia Menue Gross', 'Poulet Curry&Nouilles', 'Sushi Kaizu',\n",
       "       'Chirashi Tuna', 'Sauce Yamakake', 'Sushi Kimitsu',\n",
       "       'Sushi Vutoyama', 'Poke Bowl Vegetarian', 'Sushi Narita',\n",
       "       'Poke Bowl Bed', 'Onigirazu Spicy Veggies', 'Salad Edamame',\n",
       "       'Erbsen Sriracha 85G', 'Nüsse Kokos 90G', 'Sushi Noda',\n",
       "       'Dragon Roll Stk.', 'Md Asia Menue Klein', 'Md Asia Menue Mittel',\n",
       "       'Malaysian Cr Chicken 380G', 'Nasi Goreng Fried Rice',\n",
       "       'Sushi Chu-Maki Tatar', 'Sushi Platte Asakura',\n",
       "       'Sushi Platte Kamakura', 'Salmtartare Spicyteriyaki',\n",
       "       'Salmon Tartare Yuzu', 'Fruehlingsrol Poulet 180G',\n",
       "       'Sushi Platte Niji', 'Sushi Platte Fuyu',\n",
       "       'Fruehlingsrol Gemues 180G', 'Sushi Platte Shogatsu',\n",
       "       'Sushi Platte Takayama', 'Olong Tee O.Z. 50Cl'], dtype=object)"
      ]
     },
     "execution_count": 94,
     "metadata": {},
     "output_type": "execute_result"
    }
   ],
   "source": [
    "data['Produkt'].unique()"
   ]
  },
  {
   "cell_type": "code",
   "execution_count": 95,
   "id": "0b571e03",
   "metadata": {},
   "outputs": [],
   "source": [
    "data= data.replace({'Produkt': {'Sushi Koga':'Sushi Goka','Sauce Zukedon':'Sauce Ponzu','Sushi Nigiri Veg Rainbow':'Sushi Veggie'}})"
   ]
  },
  {
   "cell_type": "code",
   "execution_count": 96,
   "id": "7b81d33f",
   "metadata": {},
   "outputs": [],
   "source": [
    "data= data.loc[(data['Produkt']!='Indonesian Fr Rice 380G')&(data['Produkt']!='Seoul Spicy Noodles 380G') &(data['Produkt']!='Samosa Gemuese 170G')]"
   ]
  },
  {
   "cell_type": "code",
   "execution_count": 97,
   "id": "e7db3b35",
   "metadata": {},
   "outputs": [
    {
     "data": {
      "text/plain": [
       "array(['Sushi Amita', 'Sushi Kayodo', 'Sushi Lama', 'Sushi Sanda',\n",
       "       'Sushi Keto', 'Sushi Betari', 'Sushi Yakekama', 'Sushi Tara',\n",
       "       'Salad Asian Chicken', 'Poke Bowl Sesamtofu',\n",
       "       'Salad Avocado Salmon', 'Salad Summer Shrimp',\n",
       "       'Salad Sashimi Orange', 'Sauce Unagi', 'Sushi Gasai', 'Sushi Kode',\n",
       "       'Sushi Usutmu', 'Poke Bowl Shrimp Mango', 'Sushi Potema',\n",
       "       'Sushi Kaiba', 'Chirashi Salmon', 'Poke Bowl Mix',\n",
       "       'Poke Bowl SalmonTeriyaki ', 'Poke Bowl Tonkatsu', 'Sushi Yagona',\n",
       "       'Sushi Makiko', 'Sushi Yamakufu', 'Salad Wakame', 'Miso Soup Tofu',\n",
       "       'Miso Soup Chicken', 'Fried Chicken Noodle', 'Vegie Balls',\n",
       "       'Chicken Balls', 'Korean Chicken Noodle', 'Poke Bowl Salmon',\n",
       "       'Poke Bowl Smoked Salmon', 'Poke Bowl Tuna', 'Salad Thai Beef',\n",
       "       'Sushi Zashi', 'Sushi Kasai', 'Oishi Green Tea', 'Wasabi Nuts',\n",
       "       'Sushi Goka', 'Sauce Ponzu', 'Sushi Veggie',\n",
       "       'Krevetten Tempura 100G', 'Md Asia Menue Gross',\n",
       "       'Poulet Curry&Nouilles', 'Sushi Kaizu', 'Chirashi Tuna',\n",
       "       'Sauce Yamakake', 'Sushi Kimitsu', 'Sushi Vutoyama',\n",
       "       'Poke Bowl Vegetarian', 'Sushi Narita', 'Poke Bowl Bed',\n",
       "       'Onigirazu Spicy Veggies', 'Salad Edamame', 'Erbsen Sriracha 85G',\n",
       "       'Nüsse Kokos 90G', 'Sushi Noda', 'Dragon Roll Stk.',\n",
       "       'Md Asia Menue Klein', 'Md Asia Menue Mittel',\n",
       "       'Malaysian Cr Chicken 380G', 'Nasi Goreng Fried Rice',\n",
       "       'Sushi Chu-Maki Tatar', 'Sushi Platte Asakura',\n",
       "       'Sushi Platte Kamakura', 'Salmtartare Spicyteriyaki',\n",
       "       'Salmon Tartare Yuzu', 'Fruehlingsrol Poulet 180G',\n",
       "       'Sushi Platte Niji', 'Sushi Platte Fuyu',\n",
       "       'Fruehlingsrol Gemues 180G', 'Sushi Platte Shogatsu',\n",
       "       'Sushi Platte Takayama', 'Olong Tee O.Z. 50Cl'], dtype=object)"
      ]
     },
     "execution_count": 97,
     "metadata": {},
     "output_type": "execute_result"
    }
   ],
   "source": [
    "data['Produkt'].unique()"
   ]
  },
  {
   "cell_type": "code",
   "execution_count": 293,
   "id": "5a4b4df2",
   "metadata": {},
   "outputs": [
    {
     "name": "stdout",
     "output_type": "stream",
     "text": [
      "<class 'pandas.core.frame.DataFrame'>\n",
      "Int64Index: 19613 entries, 0 to 19832\n",
      "Data columns (total 7 columns):\n",
      " #   Column             Non-Null Count  Dtype         \n",
      "---  ------             --------------  -----         \n",
      " 0   Sushi Corner       19613 non-null  object        \n",
      " 1   Datum              19613 non-null  datetime64[ns]\n",
      " 2   Produkt            19613 non-null  object        \n",
      " 3   Bruttoumsatz       19613 non-null  float64       \n",
      " 4   Nettoumsatz        19613 non-null  float64       \n",
      " 5   Menge              19613 non-null  int64         \n",
      " 6   Abv. Messmenge kg  19613 non-null  float64       \n",
      "dtypes: datetime64[ns](1), float64(3), int64(1), object(2)\n",
      "memory usage: 1.2+ MB\n"
     ]
    }
   ],
   "source": [
    "data.info()"
   ]
  },
  {
   "cell_type": "code",
   "execution_count": 294,
   "id": "d0047151",
   "metadata": {},
   "outputs": [],
   "source": [
    "data= data.loc[(data['Produkt']!='Krevetten Tempura 100G')&(data['Produkt']!='Md Asia Menue Gross')&(data['Produkt']!='Poulet Curry&Nouilles')]"
   ]
  },
  {
   "cell_type": "code",
   "execution_count": 295,
   "id": "d1841838",
   "metadata": {},
   "outputs": [
    {
     "data": {
      "text/plain": [
       "array(['Sushi Amita', 'Sushi Kayodo', 'Sushi Lama', 'Sushi Sanda',\n",
       "       'Sushi Keto', 'Sushi Betari', 'Sushi Yakekama', 'Sushi Tara',\n",
       "       'Salad Asian Chicken', 'Poke Bowl Sesamtofu',\n",
       "       'Salad Avocado Salmon', 'Salad Summer Shrimp',\n",
       "       'Salad Sashimi Orange', 'Sauce Unagi', 'Sushi Gasai', 'Sushi Kode',\n",
       "       'Sushi Usutmu', 'Poke Bowl Shrimp Mango', 'Sushi Potema',\n",
       "       'Sushi Kaiba', 'Chirashi Salmon', 'Poke Bowl Mix',\n",
       "       'Poke Bowl SalmonTeriyaki ', 'Poke Bowl Tonkatsu', 'Sushi Yagona',\n",
       "       'Sushi Makiko', 'Sushi Yamakufu', 'Salad Wakame', 'Miso Soup Tofu',\n",
       "       'Miso Soup Chicken', 'Fried Chicken Noodle', 'Vegie Balls',\n",
       "       'Chicken Balls', 'Korean Chicken Noodle', 'Poke Bowl Salmon',\n",
       "       'Poke Bowl Smoked Salmon', 'Poke Bowl Tuna', 'Salad Thai Beef',\n",
       "       'Sushi Zashi', 'Sushi Kasai', 'Oishi Green Tea', 'Wasabi Nuts',\n",
       "       'Sushi Goka', 'Sauce Ponzu', 'Sushi Veggie', 'Sushi Kaizu',\n",
       "       'Chirashi Tuna', 'Sauce Yamakake', 'Sushi Kimitsu',\n",
       "       'Sushi Vutoyama', 'Poke Bowl Vegetarian', 'Sushi Narita',\n",
       "       'Poke Bowl Bed', 'Onigirazu Spicy Veggies', 'Salad Edamame',\n",
       "       'Erbsen Sriracha 85G', 'Nüsse Kokos 90G', 'Sushi Noda',\n",
       "       'Dragon Roll Stk.', 'Md Asia Menue Klein', 'Md Asia Menue Mittel',\n",
       "       'Malaysian Cr Chicken 380G', 'Nasi Goreng Fried Rice',\n",
       "       'Sushi Chu-Maki Tatar', 'Sushi Platte Asakura',\n",
       "       'Sushi Platte Kamakura', 'Salmtartare Spicyteriyaki',\n",
       "       'Salmon Tartare Yuzu', 'Fruehlingsrol Poulet 180G',\n",
       "       'Sushi Platte Niji', 'Sushi Platte Fuyu',\n",
       "       'Fruehlingsrol Gemues 180G', 'Sushi Platte Shogatsu',\n",
       "       'Sushi Platte Takayama', 'Olong Tee O.Z. 50Cl'], dtype=object)"
      ]
     },
     "execution_count": 295,
     "metadata": {},
     "output_type": "execute_result"
    }
   ],
   "source": [
    "data['Produkt'].unique()"
   ]
  },
  {
   "cell_type": "code",
   "execution_count": 298,
   "id": "75dc4b38",
   "metadata": {},
   "outputs": [],
   "source": [
    "data= data.loc[(data['Produkt']!='Onigirazu Spicy Veggies') & (data['Produkt']!='Erbsen Sriracha 85G') & (data['Produkt']!='Md Asia Menue Klein')& (data['Produkt']!='Md Asia Menue Mittel')&(data['Produkt']!='Dragon Roll Stk.')&(data['Produkt']!='Sushi Chu-Maki Tatar')]"
   ]
  },
  {
   "cell_type": "code",
   "execution_count": 299,
   "id": "a71faf8f",
   "metadata": {},
   "outputs": [
    {
     "name": "stdout",
     "output_type": "stream",
     "text": [
      "<class 'pandas.core.frame.DataFrame'>\n",
      "Int64Index: 19163 entries, 0 to 19832\n",
      "Data columns (total 7 columns):\n",
      " #   Column             Non-Null Count  Dtype         \n",
      "---  ------             --------------  -----         \n",
      " 0   Sushi Corner       19163 non-null  object        \n",
      " 1   Datum              19163 non-null  datetime64[ns]\n",
      " 2   Produkt            19163 non-null  object        \n",
      " 3   Bruttoumsatz       19163 non-null  float64       \n",
      " 4   Nettoumsatz        19163 non-null  float64       \n",
      " 5   Menge              19163 non-null  int64         \n",
      " 6   Abv. Messmenge kg  19163 non-null  float64       \n",
      "dtypes: datetime64[ns](1), float64(3), int64(1), object(2)\n",
      "memory usage: 1.2+ MB\n"
     ]
    }
   ],
   "source": [
    "data.info()"
   ]
  },
  {
   "cell_type": "code",
   "execution_count": 300,
   "id": "9b0ad0c7",
   "metadata": {},
   "outputs": [],
   "source": [
    "data= data.replace({'Produkt':{'Nüsse Kokos 90G':'Coconut Nuts','Sushi Noda':'Sushi Hoda','Olong Tee O.Z. 50Cl':'Olong Tee'}})"
   ]
  },
  {
   "cell_type": "code",
   "execution_count": 301,
   "id": "195dd4cd",
   "metadata": {},
   "outputs": [
    {
     "data": {
      "text/plain": [
       "array(['Sushi Amita', 'Sushi Kayodo', 'Sushi Lama', 'Sushi Sanda',\n",
       "       'Sushi Keto', 'Sushi Betari', 'Sushi Yakekama', 'Sushi Tara',\n",
       "       'Salad Asian Chicken', 'Poke Bowl Sesamtofu',\n",
       "       'Salad Avocado Salmon', 'Salad Summer Shrimp',\n",
       "       'Salad Sashimi Orange', 'Sauce Unagi', 'Sushi Gasai', 'Sushi Kode',\n",
       "       'Sushi Usutmu', 'Poke Bowl Shrimp Mango', 'Sushi Potema',\n",
       "       'Sushi Kaiba', 'Chirashi Salmon', 'Poke Bowl Mix',\n",
       "       'Poke Bowl SalmonTeriyaki ', 'Poke Bowl Tonkatsu', 'Sushi Yagona',\n",
       "       'Sushi Makiko', 'Sushi Yamakufu', 'Salad Wakame', 'Miso Soup Tofu',\n",
       "       'Miso Soup Chicken', 'Fried Chicken Noodle', 'Vegie Balls',\n",
       "       'Chicken Balls', 'Korean Chicken Noodle', 'Poke Bowl Salmon',\n",
       "       'Poke Bowl Smoked Salmon', 'Poke Bowl Tuna', 'Salad Thai Beef',\n",
       "       'Sushi Zashi', 'Sushi Kasai', 'Oishi Green Tea', 'Wasabi Nuts',\n",
       "       'Sushi Goka', 'Sauce Ponzu', 'Sushi Veggie', 'Sushi Kaizu',\n",
       "       'Chirashi Tuna', 'Sauce Yamakake', 'Sushi Kimitsu',\n",
       "       'Sushi Vutoyama', 'Poke Bowl Vegetarian', 'Sushi Narita',\n",
       "       'Poke Bowl Bed', 'Salad Edamame', 'Coconut Nuts', 'Sushi Hoda',\n",
       "       'Malaysian Cr Chicken 380G', 'Nasi Goreng Fried Rice',\n",
       "       'Sushi Platte Asakura', 'Sushi Platte Kamakura',\n",
       "       'Salmtartare Spicyteriyaki', 'Salmon Tartare Yuzu',\n",
       "       'Fruehlingsrol Poulet 180G', 'Sushi Platte Niji',\n",
       "       'Sushi Platte Fuyu', 'Fruehlingsrol Gemues 180G',\n",
       "       'Sushi Platte Shogatsu', 'Sushi Platte Takayama', 'Olong Tee'],\n",
       "      dtype=object)"
      ]
     },
     "execution_count": 301,
     "metadata": {},
     "output_type": "execute_result"
    }
   ],
   "source": [
    "data['Produkt'].unique()"
   ]
  },
  {
   "cell_type": "code",
   "execution_count": 302,
   "id": "d696f3a5",
   "metadata": {},
   "outputs": [],
   "source": [
    "data= data.loc[(data['Produkt']!='Malaysian Cr Chicken 380G')& (data['Produkt']!= 'Nasi Goreng Fried Rice') & (data['Produkt']!='Sushi Platte Asakura') & (data['Produkt']!= 'Sushi Platte Kamakura') & (data['Produkt']!='Sushi Platte Niji')& (data['Produkt']!='Sushi Platte Fuyu') & (data['Produkt']!='Sushi Platte Shogatsu')& (data['Produkt']!='Sushi Platte Takayama')]"
   ]
  },
  {
   "cell_type": "code",
   "execution_count": 303,
   "id": "2120fe2b",
   "metadata": {},
   "outputs": [
    {
     "name": "stdout",
     "output_type": "stream",
     "text": [
      "<class 'pandas.core.frame.DataFrame'>\n",
      "Int64Index: 19068 entries, 0 to 19832\n",
      "Data columns (total 7 columns):\n",
      " #   Column             Non-Null Count  Dtype         \n",
      "---  ------             --------------  -----         \n",
      " 0   Sushi Corner       19068 non-null  object        \n",
      " 1   Datum              19068 non-null  datetime64[ns]\n",
      " 2   Produkt            19068 non-null  object        \n",
      " 3   Bruttoumsatz       19068 non-null  float64       \n",
      " 4   Nettoumsatz        19068 non-null  float64       \n",
      " 5   Menge              19068 non-null  int64         \n",
      " 6   Abv. Messmenge kg  19068 non-null  float64       \n",
      "dtypes: datetime64[ns](1), float64(3), int64(1), object(2)\n",
      "memory usage: 1.2+ MB\n"
     ]
    }
   ],
   "source": [
    "data.info()"
   ]
  },
  {
   "cell_type": "code",
   "execution_count": 304,
   "id": "77c2a559",
   "metadata": {},
   "outputs": [
    {
     "data": {
      "text/plain": [
       "array(['Sushi Amita', 'Sushi Kayodo', 'Sushi Lama', 'Sushi Sanda',\n",
       "       'Sushi Keto', 'Sushi Betari', 'Sushi Yakekama', 'Sushi Tara',\n",
       "       'Salad Asian Chicken', 'Poke Bowl Sesamtofu',\n",
       "       'Salad Avocado Salmon', 'Salad Summer Shrimp',\n",
       "       'Salad Sashimi Orange', 'Sauce Unagi', 'Sushi Gasai', 'Sushi Kode',\n",
       "       'Sushi Usutmu', 'Poke Bowl Shrimp Mango', 'Sushi Potema',\n",
       "       'Sushi Kaiba', 'Chirashi Salmon', 'Poke Bowl Mix',\n",
       "       'Poke Bowl SalmonTeriyaki ', 'Poke Bowl Tonkatsu', 'Sushi Yagona',\n",
       "       'Sushi Makiko', 'Sushi Yamakufu', 'Salad Wakame', 'Miso Soup Tofu',\n",
       "       'Miso Soup Chicken', 'Fried Chicken Noodle', 'Vegie Balls',\n",
       "       'Chicken Balls', 'Korean Chicken Noodle', 'Poke Bowl Salmon',\n",
       "       'Poke Bowl Smoked Salmon', 'Poke Bowl Tuna', 'Salad Thai Beef',\n",
       "       'Sushi Zashi', 'Sushi Kasai', 'Oishi Green Tea', 'Wasabi Nuts',\n",
       "       'Sushi Goka', 'Sauce Ponzu', 'Sushi Veggie', 'Sushi Kaizu',\n",
       "       'Chirashi Tuna', 'Sauce Yamakake', 'Sushi Kimitsu',\n",
       "       'Sushi Vutoyama', 'Poke Bowl Vegetarian', 'Sushi Narita',\n",
       "       'Poke Bowl Bed', 'Salad Edamame', 'Coconut Nuts', 'Sushi Hoda',\n",
       "       'Salmtartare Spicyteriyaki', 'Salmon Tartare Yuzu',\n",
       "       'Fruehlingsrol Poulet 180G', 'Fruehlingsrol Gemues 180G',\n",
       "       'Olong Tee'], dtype=object)"
      ]
     },
     "execution_count": 304,
     "metadata": {},
     "output_type": "execute_result"
    }
   ],
   "source": [
    "data['Produkt'].unique()"
   ]
  },
  {
   "cell_type": "code",
   "execution_count": 305,
   "id": "2f504b64",
   "metadata": {},
   "outputs": [],
   "source": [
    "data= data.replace({'Produkt':{'Sushi Kaizu':'Sushi Maisu','Sauce Yamakake':'Sauce Goma Dare','Sushi Kimitsu':'Sushi Mitsuma','Sushi Vutoyama':'Sushi Tomaya','Sushi Narita':'Sushi Atira','Poke Bowl Bed':'Poke Bowl Vegan Ananas','Fruehlingsrol Poulet 180G':'Spring Rolls Chicken','Fruehlingsrol Gemues 180G':'Spring Rolls Vegie'}})"
   ]
  },
  {
   "cell_type": "code",
   "execution_count": 306,
   "id": "a421a57a",
   "metadata": {},
   "outputs": [
    {
     "data": {
      "text/plain": [
       "array(['Sushi Amita', 'Sushi Kayodo', 'Sushi Lama', 'Sushi Sanda',\n",
       "       'Sushi Keto', 'Sushi Betari', 'Sushi Yakekama', 'Sushi Tara',\n",
       "       'Salad Asian Chicken', 'Poke Bowl Sesamtofu',\n",
       "       'Salad Avocado Salmon', 'Salad Summer Shrimp',\n",
       "       'Salad Sashimi Orange', 'Sauce Unagi', 'Sushi Gasai', 'Sushi Kode',\n",
       "       'Sushi Usutmu', 'Poke Bowl Shrimp Mango', 'Sushi Potema',\n",
       "       'Sushi Kaiba', 'Chirashi Salmon', 'Poke Bowl Mix',\n",
       "       'Poke Bowl SalmonTeriyaki ', 'Poke Bowl Tonkatsu', 'Sushi Yagona',\n",
       "       'Sushi Makiko', 'Sushi Yamakufu', 'Salad Wakame', 'Miso Soup Tofu',\n",
       "       'Miso Soup Chicken', 'Fried Chicken Noodle', 'Vegie Balls',\n",
       "       'Chicken Balls', 'Korean Chicken Noodle', 'Poke Bowl Salmon',\n",
       "       'Poke Bowl Smoked Salmon', 'Poke Bowl Tuna', 'Salad Thai Beef',\n",
       "       'Sushi Zashi', 'Sushi Kasai', 'Oishi Green Tea', 'Wasabi Nuts',\n",
       "       'Sushi Goka', 'Sauce Ponzu', 'Sushi Veggie', 'Sushi Maisu',\n",
       "       'Chirashi Tuna', 'Sauce Goma Dare', 'Sushi Mitsuma',\n",
       "       'Sushi Tomaya', 'Poke Bowl Vegetarian', 'Sushi Atira',\n",
       "       'Poke Bowl Vegan Ananas', 'Salad Edamame', 'Coconut Nuts',\n",
       "       'Sushi Hoda', 'Salmtartare Spicyteriyaki', 'Salmon Tartare Yuzu',\n",
       "       'Spring Rolls Chicken', 'Spring Rolls Vegie', 'Olong Tee'],\n",
       "      dtype=object)"
      ]
     },
     "execution_count": 306,
     "metadata": {},
     "output_type": "execute_result"
    }
   ],
   "source": [
    "data['Produkt'].unique()"
   ]
  },
  {
   "cell_type": "code",
   "execution_count": 316,
   "id": "0830b8ab",
   "metadata": {},
   "outputs": [],
   "source": [
    "data['Datum']= data['Datum'] + pd.DateOffset(months= 4)"
   ]
  },
  {
   "cell_type": "code",
   "execution_count": 318,
   "id": "940b3d17",
   "metadata": {
    "scrolled": true
   },
   "outputs": [
    {
     "data": {
      "text/plain": [
       "0       2023-07-01\n",
       "1       2023-07-01\n",
       "2       2023-07-01\n",
       "3       2023-07-01\n",
       "4       2023-07-01\n",
       "           ...    \n",
       "19827   2023-07-22\n",
       "19828   2023-07-22\n",
       "19829   2023-07-22\n",
       "19831   2023-07-22\n",
       "19832   2023-07-22\n",
       "Name: Datum, Length: 19068, dtype: datetime64[ns]"
      ]
     },
     "execution_count": 318,
     "metadata": {},
     "output_type": "execute_result"
    }
   ],
   "source": [
    "data['Datum']"
   ]
  },
  {
   "cell_type": "code",
   "execution_count": 319,
   "id": "19909dfb",
   "metadata": {},
   "outputs": [
    {
     "data": {
      "text/html": [
       "<div>\n",
       "<style scoped>\n",
       "    .dataframe tbody tr th:only-of-type {\n",
       "        vertical-align: middle;\n",
       "    }\n",
       "\n",
       "    .dataframe tbody tr th {\n",
       "        vertical-align: top;\n",
       "    }\n",
       "\n",
       "    .dataframe thead th {\n",
       "        text-align: right;\n",
       "    }\n",
       "</style>\n",
       "<table border=\"1\" class=\"dataframe\">\n",
       "  <thead>\n",
       "    <tr style=\"text-align: right;\">\n",
       "      <th></th>\n",
       "      <th>Sushi Corner</th>\n",
       "      <th>Datum</th>\n",
       "      <th>Produkt</th>\n",
       "      <th>Bruttoumsatz</th>\n",
       "      <th>Nettoumsatz</th>\n",
       "      <th>Menge</th>\n",
       "      <th>Abv. Messmenge kg</th>\n",
       "    </tr>\n",
       "  </thead>\n",
       "  <tbody>\n",
       "    <tr>\n",
       "      <th>0</th>\n",
       "      <td>Zürich Stadelhofen</td>\n",
       "      <td>2023-07-01</td>\n",
       "      <td>Sushi Amita</td>\n",
       "      <td>54.75</td>\n",
       "      <td>53.4146</td>\n",
       "      <td>5</td>\n",
       "      <td>1.475</td>\n",
       "    </tr>\n",
       "    <tr>\n",
       "      <th>1</th>\n",
       "      <td>Zürich Stadelhofen</td>\n",
       "      <td>2023-07-01</td>\n",
       "      <td>Sushi Kayodo</td>\n",
       "      <td>49.50</td>\n",
       "      <td>48.2926</td>\n",
       "      <td>5</td>\n",
       "      <td>0.865</td>\n",
       "    </tr>\n",
       "    <tr>\n",
       "      <th>2</th>\n",
       "      <td>Zürich Stadelhofen</td>\n",
       "      <td>2023-07-01</td>\n",
       "      <td>Sushi Lama</td>\n",
       "      <td>59.70</td>\n",
       "      <td>58.2438</td>\n",
       "      <td>3</td>\n",
       "      <td>1.080</td>\n",
       "    </tr>\n",
       "    <tr>\n",
       "      <th>3</th>\n",
       "      <td>Zürich Stadelhofen</td>\n",
       "      <td>2023-07-01</td>\n",
       "      <td>Sushi Sanda</td>\n",
       "      <td>13.90</td>\n",
       "      <td>13.5610</td>\n",
       "      <td>1</td>\n",
       "      <td>0.195</td>\n",
       "    </tr>\n",
       "    <tr>\n",
       "      <th>4</th>\n",
       "      <td>Zürich Stadelhofen</td>\n",
       "      <td>2023-07-01</td>\n",
       "      <td>Sushi Keto</td>\n",
       "      <td>55.60</td>\n",
       "      <td>54.2440</td>\n",
       "      <td>4</td>\n",
       "      <td>0.780</td>\n",
       "    </tr>\n",
       "  </tbody>\n",
       "</table>\n",
       "</div>"
      ],
      "text/plain": [
       "         Sushi Corner      Datum       Produkt  Bruttoumsatz  Nettoumsatz  \\\n",
       "0  Zürich Stadelhofen 2023-07-01   Sushi Amita         54.75      53.4146   \n",
       "1  Zürich Stadelhofen 2023-07-01  Sushi Kayodo         49.50      48.2926   \n",
       "2  Zürich Stadelhofen 2023-07-01    Sushi Lama         59.70      58.2438   \n",
       "3  Zürich Stadelhofen 2023-07-01   Sushi Sanda         13.90      13.5610   \n",
       "4  Zürich Stadelhofen 2023-07-01    Sushi Keto         55.60      54.2440   \n",
       "\n",
       "   Menge  Abv. Messmenge kg  \n",
       "0      5              1.475  \n",
       "1      5              0.865  \n",
       "2      3              1.080  \n",
       "3      1              0.195  \n",
       "4      4              0.780  "
      ]
     },
     "execution_count": 319,
     "metadata": {},
     "output_type": "execute_result"
    }
   ],
   "source": [
    "data.head()"
   ]
  },
  {
   "cell_type": "code",
   "execution_count": 320,
   "id": "393a26ba",
   "metadata": {},
   "outputs": [],
   "source": [
    "data.to_excel(r\"C:\\Users\\trinh.ngo\\OneDrive - Terasys-Network\\Dokumente\\Sushi Mania\\Verkauf Bericht Power BI\\Sushi Data_Output.xlsx\", index= False)"
   ]
  },
  {
   "cell_type": "code",
   "execution_count": null,
   "id": "8698afda",
   "metadata": {},
   "outputs": [],
   "source": []
  }
 ],
 "metadata": {
  "kernelspec": {
   "display_name": "Python 3 (ipykernel)",
   "language": "python",
   "name": "python3"
  },
  "language_info": {
   "codemirror_mode": {
    "name": "ipython",
    "version": 3
   },
   "file_extension": ".py",
   "mimetype": "text/x-python",
   "name": "python",
   "nbconvert_exporter": "python",
   "pygments_lexer": "ipython3",
   "version": "3.9.13"
  }
 },
 "nbformat": 4,
 "nbformat_minor": 5
}
